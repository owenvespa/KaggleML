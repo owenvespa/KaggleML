{
 "cells": [
  {
   "cell_type": "code",
   "execution_count": 1,
   "id": "e6b5e689",
   "metadata": {
    "_cell_guid": "b1076dfc-b9ad-4769-8c92-a6c4dae69d19",
    "_uuid": "8f2839f25d086af736a60e9eeb907d3b93b6e0e5",
    "execution": {
     "iopub.execute_input": "2023-02-13T05:50:22.552769Z",
     "iopub.status.busy": "2023-02-13T05:50:22.551786Z",
     "iopub.status.idle": "2023-02-13T05:50:22.567833Z",
     "shell.execute_reply": "2023-02-13T05:50:22.566689Z"
    },
    "papermill": {
     "duration": 0.027271,
     "end_time": "2023-02-13T05:50:22.570494",
     "exception": false,
     "start_time": "2023-02-13T05:50:22.543223",
     "status": "completed"
    },
    "tags": []
   },
   "outputs": [
    {
     "name": "stdout",
     "output_type": "stream",
     "text": [
      "/kaggle/input/store-sales-time-series-forecasting/oil.csv\n",
      "/kaggle/input/store-sales-time-series-forecasting/sample_submission.csv\n",
      "/kaggle/input/store-sales-time-series-forecasting/holidays_events.csv\n",
      "/kaggle/input/store-sales-time-series-forecasting/stores.csv\n",
      "/kaggle/input/store-sales-time-series-forecasting/train.csv\n",
      "/kaggle/input/store-sales-time-series-forecasting/test.csv\n",
      "/kaggle/input/store-sales-time-series-forecasting/transactions.csv\n"
     ]
    }
   ],
   "source": [
    "# This Python 3 environment comes with many helpful analytics libraries installed\n",
    "# It is defined by the kaggle/python Docker image: https://github.com/kaggle/docker-python\n",
    "# For example, here's several helpful packages to load\n",
    "\n",
    "import numpy as np # linear algebra\n",
    "import pandas as pd # data processing, CSV file I/O (e.g. pd.read_csv)\n",
    "\n",
    "# Input data files are available in the read-only \"../input/\" directory\n",
    "# For example, running this (by clicking run or pressing Shift+Enter) will list all files under the input directory\n",
    "\n",
    "import os\n",
    "for dirname, _, filenames in os.walk('/kaggle/input'):\n",
    "    for filename in filenames:\n",
    "        print(os.path.join(dirname, filename))\n",
    "\n",
    "# You can write up to 20GB to the current directory (/kaggle/working/) that gets preserved as output when you create a version using \"Save & Run All\" \n",
    "# You can also write temporary files to /kaggle/temp/, but they won't be saved outside of the current session"
   ]
  },
  {
   "cell_type": "markdown",
   "id": "ff25cefc",
   "metadata": {
    "papermill": {
     "duration": 0.004983,
     "end_time": "2023-02-13T05:50:22.581135",
     "exception": false,
     "start_time": "2023-02-13T05:50:22.576152",
     "status": "completed"
    },
    "tags": []
   },
   "source": [
    "# Intro"
   ]
  },
  {
   "cell_type": "markdown",
   "id": "2bc8dcc3",
   "metadata": {
    "papermill": {
     "duration": 0.004891,
     "end_time": "2023-02-13T05:50:22.591133",
     "exception": false,
     "start_time": "2023-02-13T05:50:22.586242",
     "status": "completed"
    },
    "tags": []
   },
   "source": [
    "* This notebook follows the tutorial but instead of using linear regression, RegressorChain was used to train the model.\n",
    "* I did initial EDA and preprocessing of the other data sets and decided to exclude 'transactions', 'holiday_events', 'oil' and 'stores' in ML modeling. I found that 'onpromotion' feature was highly correlated to sales.\n",
    " "
   ]
  },
  {
   "cell_type": "code",
   "execution_count": 2,
   "id": "06476814",
   "metadata": {
    "execution": {
     "iopub.execute_input": "2023-02-13T05:50:22.603721Z",
     "iopub.status.busy": "2023-02-13T05:50:22.602750Z",
     "iopub.status.idle": "2023-02-13T05:50:31.891021Z",
     "shell.execute_reply": "2023-02-13T05:50:31.890045Z"
    },
    "papermill": {
     "duration": 9.297201,
     "end_time": "2023-02-13T05:50:31.893629",
     "exception": false,
     "start_time": "2023-02-13T05:50:22.596428",
     "status": "completed"
    },
    "tags": []
   },
   "outputs": [],
   "source": [
    "# Setup feedback system\n",
    "from learntools.core import binder\n",
    "binder.bind(globals())\n",
    "from learntools.time_series.ex6 import *\n",
    "\n",
    "# Setup notebook\n",
    "from pathlib import Path\n",
    "import ipywidgets as widgets\n",
    "from learntools.time_series.style import *  # plot style settings\n",
    "from learntools.time_series.utils import (create_multistep_example,\n",
    "                                          load_multistep_data,\n",
    "                                          make_lags,\n",
    "                                          make_multistep_target,\n",
    "                                          plot_multistep)\n",
    "from learntools.time_series.utils import plot_periodogram, seasonal_plot\n",
    "\n",
    "import pandas as pd\n",
    "import matplotlib.pyplot as plt\n",
    "import numpy as np\n",
    "import seaborn as sns\n",
    "from sklearn.linear_model import LinearRegression\n",
    "from statsmodels.tsa.deterministic import CalendarFourier, DeterministicProcess\n",
    "\n",
    "from learntools.time_series.style import *  # plot style settings\n",
    "from learntools.time_series.utils import (create_multistep_example,\n",
    "                                          load_multistep_data,\n",
    "                                          make_lags,\n",
    "                                          make_multistep_target,\n",
    "                                          plot_multistep)\n",
    "\n",
    "from sklearn.multioutput import RegressorChain\n",
    "from sklearn.preprocessing import LabelEncoder\n",
    "from xgboost import XGBRegressor\n",
    "\n",
    "\n",
    "comp_dir = Path('../input/store-sales-time-series-forecasting')\n",
    "\n",
    "\n",
    "store_sales = pd.read_csv(\n",
    "    comp_dir / 'train.csv',\n",
    "    usecols=['store_nbr', 'family', 'date', 'sales','onpromotion'],\n",
    "    dtype={\n",
    "        'store_nbr': 'category',\n",
    "        'family': 'category',\n",
    "        'sales': 'float32',\n",
    "        'onpromotion': 'uint32',\n",
    "    },\n",
    "    parse_dates=['date'],\n",
    "    infer_datetime_format=True,\n",
    ")\n",
    "store_sales['date'] = store_sales.date.dt.to_period('D')\n",
    "store_sales = store_sales.set_index(['store_nbr', 'family', 'date']).sort_index()\n",
    "average_sales = (\n",
    "    store_sales\n",
    "    .groupby('date').mean()\n",
    "    .squeeze()\n",
    "    .loc['2017']\n",
    ")\n"
   ]
  },
  {
   "cell_type": "code",
   "execution_count": 3,
   "id": "1886e27a",
   "metadata": {
    "execution": {
     "iopub.execute_input": "2023-02-13T05:50:31.905586Z",
     "iopub.status.busy": "2023-02-13T05:50:31.905241Z",
     "iopub.status.idle": "2023-02-13T05:50:31.921239Z",
     "shell.execute_reply": "2023-02-13T05:50:31.920238Z"
    },
    "papermill": {
     "duration": 0.024224,
     "end_time": "2023-02-13T05:50:31.923307",
     "exception": false,
     "start_time": "2023-02-13T05:50:31.899083",
     "status": "completed"
    },
    "tags": []
   },
   "outputs": [
    {
     "data": {
      "text/html": [
       "<div>\n",
       "<style scoped>\n",
       "    .dataframe tbody tr th:only-of-type {\n",
       "        vertical-align: middle;\n",
       "    }\n",
       "\n",
       "    .dataframe tbody tr th {\n",
       "        vertical-align: top;\n",
       "    }\n",
       "\n",
       "    .dataframe thead th {\n",
       "        text-align: right;\n",
       "    }\n",
       "</style>\n",
       "<table border=\"1\" class=\"dataframe\">\n",
       "  <thead>\n",
       "    <tr style=\"text-align: right;\">\n",
       "      <th></th>\n",
       "      <th></th>\n",
       "      <th></th>\n",
       "      <th>sales</th>\n",
       "      <th>onpromotion</th>\n",
       "    </tr>\n",
       "    <tr>\n",
       "      <th>store_nbr</th>\n",
       "      <th>family</th>\n",
       "      <th>date</th>\n",
       "      <th></th>\n",
       "      <th></th>\n",
       "    </tr>\n",
       "  </thead>\n",
       "  <tbody>\n",
       "    <tr>\n",
       "      <th rowspan=\"5\" valign=\"top\">1</th>\n",
       "      <th rowspan=\"5\" valign=\"top\">AUTOMOTIVE</th>\n",
       "      <th>2013-01-01</th>\n",
       "      <td>0.0</td>\n",
       "      <td>0</td>\n",
       "    </tr>\n",
       "    <tr>\n",
       "      <th>2013-01-02</th>\n",
       "      <td>2.0</td>\n",
       "      <td>0</td>\n",
       "    </tr>\n",
       "    <tr>\n",
       "      <th>2013-01-03</th>\n",
       "      <td>3.0</td>\n",
       "      <td>0</td>\n",
       "    </tr>\n",
       "    <tr>\n",
       "      <th>2013-01-04</th>\n",
       "      <td>3.0</td>\n",
       "      <td>0</td>\n",
       "    </tr>\n",
       "    <tr>\n",
       "      <th>2013-01-05</th>\n",
       "      <td>5.0</td>\n",
       "      <td>0</td>\n",
       "    </tr>\n",
       "  </tbody>\n",
       "</table>\n",
       "</div>"
      ],
      "text/plain": [
       "                                 sales  onpromotion\n",
       "store_nbr family     date                          \n",
       "1         AUTOMOTIVE 2013-01-01    0.0            0\n",
       "                     2013-01-02    2.0            0\n",
       "                     2013-01-03    3.0            0\n",
       "                     2013-01-04    3.0            0\n",
       "                     2013-01-05    5.0            0"
      ]
     },
     "execution_count": 3,
     "metadata": {},
     "output_type": "execute_result"
    }
   ],
   "source": [
    "store_sales.head()"
   ]
  },
  {
   "cell_type": "code",
   "execution_count": 4,
   "id": "ec309a74",
   "metadata": {
    "execution": {
     "iopub.execute_input": "2023-02-13T05:50:31.935397Z",
     "iopub.status.busy": "2023-02-13T05:50:31.935098Z",
     "iopub.status.idle": "2023-02-13T05:50:33.252399Z",
     "shell.execute_reply": "2023-02-13T05:50:33.251450Z"
    },
    "papermill": {
     "duration": 1.326096,
     "end_time": "2023-02-13T05:50:33.254879",
     "exception": false,
     "start_time": "2023-02-13T05:50:31.928783",
     "status": "completed"
    },
    "tags": []
   },
   "outputs": [],
   "source": [
    "y = store_sales.unstack(['store_nbr', 'family']).loc[\"2017\"]\n",
    "\n",
    "# Create training data\n",
    "fourier = CalendarFourier(freq='M', order=4)\n",
    "dp = DeterministicProcess(\n",
    "    index=y.index,\n",
    "    constant=True,\n",
    "    order=1,\n",
    "    seasonal=True,\n",
    "    additional_terms=[fourier],\n",
    "    drop=True,\n",
    ")\n",
    "X = dp.in_sample()\n",
    "X['NewYear'] = (X.index.dayofyear == 1)"
   ]
  },
  {
   "cell_type": "code",
   "execution_count": 5,
   "id": "dd236cc6",
   "metadata": {
    "execution": {
     "iopub.execute_input": "2023-02-13T05:50:33.267597Z",
     "iopub.status.busy": "2023-02-13T05:50:33.267276Z",
     "iopub.status.idle": "2023-02-13T07:32:05.887029Z",
     "shell.execute_reply": "2023-02-13T07:32:05.885767Z"
    },
    "papermill": {
     "duration": 6092.629329,
     "end_time": "2023-02-13T07:32:05.890078",
     "exception": false,
     "start_time": "2023-02-13T05:50:33.260749",
     "status": "completed"
    },
    "tags": []
   },
   "outputs": [],
   "source": [
    "from sklearn.multioutput import RegressorChain\n",
    "from xgboost import XGBRegressor\n",
    "from sklearn.multioutput import RegressorChain\n",
    "\n",
    "model = RegressorChain(base_estimator=XGBRegressor())\n",
    "model.fit(X, y)\n",
    "y_pred = pd.DataFrame(model.predict(X), index=X.index, columns=y.columns)"
   ]
  },
  {
   "cell_type": "code",
   "execution_count": 6,
   "id": "27ad2992",
   "metadata": {
    "execution": {
     "iopub.execute_input": "2023-02-13T07:32:05.904810Z",
     "iopub.status.busy": "2023-02-13T07:32:05.904343Z",
     "iopub.status.idle": "2023-02-13T07:32:05.987626Z",
     "shell.execute_reply": "2023-02-13T07:32:05.986406Z"
    },
    "papermill": {
     "duration": 0.093843,
     "end_time": "2023-02-13T07:32:05.990553",
     "exception": false,
     "start_time": "2023-02-13T07:32:05.896710",
     "status": "completed"
    },
    "tags": []
   },
   "outputs": [],
   "source": [
    "df_test = pd.read_csv(\n",
    "    comp_dir / 'test.csv',\n",
    "    dtype={\n",
    "        'store_nbr': 'category',\n",
    "        'family': 'category',\n",
    "        'onpromotion': 'uint32',\n",
    "    },\n",
    "    parse_dates=['date'],\n",
    "    infer_datetime_format=True,\n",
    ")\n",
    "df_test['date'] = df_test.date.dt.to_period('D')\n",
    "df_test = df_test.set_index(['store_nbr', 'family', 'date']).sort_index()\n",
    "\n",
    "# Create features for test set\n",
    "X_test = dp.out_of_sample(steps=16)\n",
    "X_test.index.name = 'date'\n",
    "X_test['NewYear'] = (X_test.index.dayofyear == 1)"
   ]
  },
  {
   "cell_type": "code",
   "execution_count": 7,
   "id": "0be448fc",
   "metadata": {
    "execution": {
     "iopub.execute_input": "2023-02-13T07:32:06.004390Z",
     "iopub.status.busy": "2023-02-13T07:32:06.003964Z",
     "iopub.status.idle": "2023-02-13T07:32:20.110304Z",
     "shell.execute_reply": "2023-02-13T07:32:20.109008Z"
    },
    "papermill": {
     "duration": 14.116515,
     "end_time": "2023-02-13T07:32:20.113183",
     "exception": false,
     "start_time": "2023-02-13T07:32:05.996668",
     "status": "completed"
    },
    "tags": []
   },
   "outputs": [],
   "source": [
    "y_submit = pd.DataFrame(model.predict(X_test), index=X_test.index, columns=y.columns)\n",
    "y_submit = y_submit.stack(['store_nbr', 'family'])\n",
    "y_submit = y_submit.join(df_test.id).reindex(columns=['id', 'sales'])\n",
    "y_submit.to_csv('submission.csv', index=False)"
   ]
  },
  {
   "cell_type": "markdown",
   "id": "fbcd10d8",
   "metadata": {
    "papermill": {
     "duration": 0.005525,
     "end_time": "2023-02-13T07:32:20.124722",
     "exception": false,
     "start_time": "2023-02-13T07:32:20.119197",
     "status": "completed"
    },
    "tags": []
   },
   "source": [
    "# Forecasting with ML -apply the DirRec strategy to XGBoost"
   ]
  },
  {
   "cell_type": "code",
   "execution_count": 8,
   "id": "f1a5f0e0",
   "metadata": {
    "execution": {
     "iopub.execute_input": "2023-02-13T07:32:20.137929Z",
     "iopub.status.busy": "2023-02-13T07:32:20.137498Z",
     "iopub.status.idle": "2023-02-13T07:32:20.143482Z",
     "shell.execute_reply": "2023-02-13T07:32:20.142381Z"
    },
    "papermill": {
     "duration": 0.015577,
     "end_time": "2023-02-13T07:32:20.145960",
     "exception": false,
     "start_time": "2023-02-13T07:32:20.130383",
     "status": "completed"
    },
    "tags": []
   },
   "outputs": [],
   "source": [
    "from learntools.time_series.style import *  # plot style settings\n",
    "from learntools.time_series.utils import (create_multistep_example,\n",
    "                                          load_multistep_data,\n",
    "                                          make_lags,\n",
    "                                          make_multistep_target,\n",
    "                                          plot_multistep)\n",
    "\n",
    "import pandas as pd\n",
    "import matplotlib.pyplot as plt\n",
    "from sklearn.linear_model import LinearRegression\n",
    "from sklearn.multioutput import RegressorChain\n",
    "from sklearn.preprocessing import LabelEncoder\n",
    "from xgboost import XGBRegressor"
   ]
  },
  {
   "cell_type": "code",
   "execution_count": 9,
   "id": "089937f3",
   "metadata": {
    "execution": {
     "iopub.execute_input": "2023-02-13T07:32:20.160109Z",
     "iopub.status.busy": "2023-02-13T07:32:20.159282Z",
     "iopub.status.idle": "2023-02-13T07:32:20.653319Z",
     "shell.execute_reply": "2023-02-13T07:32:20.651951Z"
    },
    "papermill": {
     "duration": 0.504271,
     "end_time": "2023-02-13T07:32:20.656219",
     "exception": false,
     "start_time": "2023-02-13T07:32:20.151948",
     "status": "completed"
    },
    "tags": []
   },
   "outputs": [],
   "source": [
    "family_sales = (\n",
    "    store_sales\n",
    "    .groupby(['family', 'date'])\n",
    "    .mean()\n",
    "    .unstack('family')\n",
    "    .loc['2017']\n",
    ")\n",
    "\n",
    "test = pd.read_csv(\n",
    "    comp_dir / 'test.csv',\n",
    "    dtype={\n",
    "        'store_nbr': 'category',\n",
    "        'family': 'category',\n",
    "        'onpromotion': 'uint32',\n",
    "    },\n",
    "    parse_dates=['date'],\n",
    "    infer_datetime_format=True,\n",
    ")\n",
    "test['date'] = test.date.dt.to_period('D')\n",
    "test = test.set_index(['store_nbr', 'family', 'date']).sort_index()"
   ]
  },
  {
   "cell_type": "markdown",
   "id": "94877f40",
   "metadata": {
    "papermill": {
     "duration": 0.005489,
     "end_time": "2023-02-13T07:32:20.667511",
     "exception": false,
     "start_time": "2023-02-13T07:32:20.662022",
     "status": "completed"
    },
    "tags": []
   },
   "source": [
    "Three forecasting tasks:\n",
    "\n",
    "a. 3-step forecast using 4 lag features with a 2-step lead time\n",
    "\n",
    "b. 1-step forecast using 3 lag features with a 1-step lead time\n",
    "\n",
    "c. 3-step forecast using 4 lag features with a 1-step lead time"
   ]
  },
  {
   "cell_type": "code",
   "execution_count": 10,
   "id": "5816d9df",
   "metadata": {
    "execution": {
     "iopub.execute_input": "2023-02-13T07:32:20.680509Z",
     "iopub.status.busy": "2023-02-13T07:32:20.680117Z",
     "iopub.status.idle": "2023-02-13T07:32:20.916275Z",
     "shell.execute_reply": "2023-02-13T07:32:20.915199Z"
    },
    "papermill": {
     "duration": 0.245467,
     "end_time": "2023-02-13T07:32:20.918593",
     "exception": false,
     "start_time": "2023-02-13T07:32:20.673126",
     "status": "completed"
    },
    "tags": []
   },
   "outputs": [
    {
     "data": {
      "application/vnd.jupyter.widget-view+json": {
       "model_id": "831f5d53311646e484cc956809836a04",
       "version_major": 2,
       "version_minor": 0
      },
      "text/plain": [
       "Tab(children=(Output(), Output(), Output()), _titles={'0': 'Dataset 1', '1': 'Dataset 2', '2': 'Dataset 3'})"
      ]
     },
     "metadata": {},
     "output_type": "display_data"
    }
   ],
   "source": [
    "datasets = load_multistep_data()\n",
    "\n",
    "data_tabs = widgets.Tab([widgets.Output() for _ in enumerate(datasets)])\n",
    "for i, df in enumerate(datasets):\n",
    "    data_tabs.set_title(i, f'Dataset {i+1}')\n",
    "    with data_tabs.children[i]:\n",
    "        display(df)\n",
    "\n",
    "display(data_tabs)"
   ]
  },
  {
   "cell_type": "code",
   "execution_count": 11,
   "id": "4233550e",
   "metadata": {
    "execution": {
     "iopub.execute_input": "2023-02-13T07:32:20.932504Z",
     "iopub.status.busy": "2023-02-13T07:32:20.932137Z",
     "iopub.status.idle": "2023-02-13T07:32:20.954763Z",
     "shell.execute_reply": "2023-02-13T07:32:20.953504Z"
    },
    "papermill": {
     "duration": 0.032503,
     "end_time": "2023-02-13T07:32:20.957541",
     "exception": false,
     "start_time": "2023-02-13T07:32:20.925038",
     "status": "completed"
    },
    "tags": []
   },
   "outputs": [],
   "source": [
    "y = family_sales.loc[:, 'sales']\n",
    "\n",
    "X = make_lags(y, lags=4).dropna() #4 lag features\n",
    "\n",
    "y = make_multistep_target(y, steps=16).dropna() #multistep\n",
    "\n",
    "y, X = y.align(X, join='inner', axis=0)"
   ]
  },
  {
   "cell_type": "code",
   "execution_count": 12,
   "id": "e13fc195",
   "metadata": {
    "execution": {
     "iopub.execute_input": "2023-02-13T07:32:20.971561Z",
     "iopub.status.busy": "2023-02-13T07:32:20.971146Z",
     "iopub.status.idle": "2023-02-13T07:32:21.019076Z",
     "shell.execute_reply": "2023-02-13T07:32:21.017948Z"
    },
    "papermill": {
     "duration": 0.058105,
     "end_time": "2023-02-13T07:32:21.021558",
     "exception": false,
     "start_time": "2023-02-13T07:32:20.963453",
     "status": "completed"
    },
    "tags": []
   },
   "outputs": [
    {
     "data": {
      "text/html": [
       "<div>\n",
       "<style scoped>\n",
       "    .dataframe tbody tr th:only-of-type {\n",
       "        vertical-align: middle;\n",
       "    }\n",
       "\n",
       "    .dataframe tbody tr th {\n",
       "        vertical-align: top;\n",
       "    }\n",
       "\n",
       "    .dataframe thead th {\n",
       "        text-align: right;\n",
       "    }\n",
       "</style>\n",
       "<table border=\"1\" class=\"dataframe\">\n",
       "  <thead>\n",
       "    <tr style=\"text-align: right;\">\n",
       "      <th></th>\n",
       "      <th></th>\n",
       "      <th>y_step_1</th>\n",
       "      <th>y_step_2</th>\n",
       "      <th>y_step_3</th>\n",
       "      <th>y_step_4</th>\n",
       "      <th>y_step_5</th>\n",
       "      <th>y_step_6</th>\n",
       "      <th>y_step_7</th>\n",
       "      <th>y_step_8</th>\n",
       "      <th>y_step_9</th>\n",
       "      <th>y_step_10</th>\n",
       "      <th>y_step_11</th>\n",
       "      <th>y_step_12</th>\n",
       "      <th>y_step_13</th>\n",
       "      <th>y_step_14</th>\n",
       "      <th>y_step_15</th>\n",
       "      <th>y_step_16</th>\n",
       "    </tr>\n",
       "    <tr>\n",
       "      <th>date</th>\n",
       "      <th>family</th>\n",
       "      <th></th>\n",
       "      <th></th>\n",
       "      <th></th>\n",
       "      <th></th>\n",
       "      <th></th>\n",
       "      <th></th>\n",
       "      <th></th>\n",
       "      <th></th>\n",
       "      <th></th>\n",
       "      <th></th>\n",
       "      <th></th>\n",
       "      <th></th>\n",
       "      <th></th>\n",
       "      <th></th>\n",
       "      <th></th>\n",
       "      <th></th>\n",
       "    </tr>\n",
       "  </thead>\n",
       "  <tbody>\n",
       "    <tr>\n",
       "      <th rowspan=\"5\" valign=\"top\">2017-01-05</th>\n",
       "      <th>AUTOMOTIVE</th>\n",
       "      <td>6.333333</td>\n",
       "      <td>6.018518</td>\n",
       "      <td>10.259259</td>\n",
       "      <td>9.388889</td>\n",
       "      <td>5.944445</td>\n",
       "      <td>4.777778</td>\n",
       "      <td>6.314815</td>\n",
       "      <td>5.388889</td>\n",
       "      <td>5.240741</td>\n",
       "      <td>8.500000</td>\n",
       "      <td>10.259259</td>\n",
       "      <td>6.407407</td>\n",
       "      <td>5.685185</td>\n",
       "      <td>5.703704</td>\n",
       "      <td>4.777778</td>\n",
       "      <td>5.148148</td>\n",
       "    </tr>\n",
       "    <tr>\n",
       "      <th>BABY CARE</th>\n",
       "      <td>0.351852</td>\n",
       "      <td>0.277778</td>\n",
       "      <td>0.259259</td>\n",
       "      <td>0.240741</td>\n",
       "      <td>0.444444</td>\n",
       "      <td>0.240741</td>\n",
       "      <td>0.277778</td>\n",
       "      <td>0.296296</td>\n",
       "      <td>0.296296</td>\n",
       "      <td>0.388889</td>\n",
       "      <td>0.425926</td>\n",
       "      <td>0.314815</td>\n",
       "      <td>0.166667</td>\n",
       "      <td>0.222222</td>\n",
       "      <td>0.129630</td>\n",
       "      <td>0.166667</td>\n",
       "    </tr>\n",
       "    <tr>\n",
       "      <th>BEAUTY</th>\n",
       "      <td>5.925926</td>\n",
       "      <td>6.518518</td>\n",
       "      <td>10.037037</td>\n",
       "      <td>11.611111</td>\n",
       "      <td>5.648148</td>\n",
       "      <td>6.500000</td>\n",
       "      <td>5.277778</td>\n",
       "      <td>4.370370</td>\n",
       "      <td>4.703704</td>\n",
       "      <td>7.777778</td>\n",
       "      <td>9.037037</td>\n",
       "      <td>5.648148</td>\n",
       "      <td>5.351852</td>\n",
       "      <td>4.740741</td>\n",
       "      <td>3.981482</td>\n",
       "      <td>4.592593</td>\n",
       "    </tr>\n",
       "    <tr>\n",
       "      <th>BEVERAGES</th>\n",
       "      <td>3258.796387</td>\n",
       "      <td>3507.277832</td>\n",
       "      <td>4848.518555</td>\n",
       "      <td>5503.647949</td>\n",
       "      <td>3448.203613</td>\n",
       "      <td>3171.740723</td>\n",
       "      <td>3046.870361</td>\n",
       "      <td>2693.722168</td>\n",
       "      <td>3226.037109</td>\n",
       "      <td>4667.296387</td>\n",
       "      <td>5580.611328</td>\n",
       "      <td>3700.370361</td>\n",
       "      <td>3409.796387</td>\n",
       "      <td>3263.462891</td>\n",
       "      <td>2676.573975</td>\n",
       "      <td>3003.555664</td>\n",
       "    </tr>\n",
       "    <tr>\n",
       "      <th>BOOKS</th>\n",
       "      <td>0.407407</td>\n",
       "      <td>0.537037</td>\n",
       "      <td>0.481481</td>\n",
       "      <td>0.722222</td>\n",
       "      <td>0.500000</td>\n",
       "      <td>0.518519</td>\n",
       "      <td>0.481481</td>\n",
       "      <td>0.388889</td>\n",
       "      <td>0.444444</td>\n",
       "      <td>0.574074</td>\n",
       "      <td>0.555556</td>\n",
       "      <td>0.388889</td>\n",
       "      <td>0.500000</td>\n",
       "      <td>0.407407</td>\n",
       "      <td>0.277778</td>\n",
       "      <td>0.351852</td>\n",
       "    </tr>\n",
       "    <tr>\n",
       "      <th>...</th>\n",
       "      <th>...</th>\n",
       "      <td>...</td>\n",
       "      <td>...</td>\n",
       "      <td>...</td>\n",
       "      <td>...</td>\n",
       "      <td>...</td>\n",
       "      <td>...</td>\n",
       "      <td>...</td>\n",
       "      <td>...</td>\n",
       "      <td>...</td>\n",
       "      <td>...</td>\n",
       "      <td>...</td>\n",
       "      <td>...</td>\n",
       "      <td>...</td>\n",
       "      <td>...</td>\n",
       "      <td>...</td>\n",
       "      <td>...</td>\n",
       "    </tr>\n",
       "    <tr>\n",
       "      <th rowspan=\"5\" valign=\"top\">2017-07-31</th>\n",
       "      <th>POULTRY</th>\n",
       "      <td>364.955658</td>\n",
       "      <td>403.601349</td>\n",
       "      <td>377.313965</td>\n",
       "      <td>316.436096</td>\n",
       "      <td>533.497070</td>\n",
       "      <td>416.454010</td>\n",
       "      <td>464.596558</td>\n",
       "      <td>344.051727</td>\n",
       "      <td>313.780884</td>\n",
       "      <td>305.270203</td>\n",
       "      <td>278.819855</td>\n",
       "      <td>468.857361</td>\n",
       "      <td>354.342773</td>\n",
       "      <td>379.801208</td>\n",
       "      <td>344.398285</td>\n",
       "      <td>325.679810</td>\n",
       "    </tr>\n",
       "    <tr>\n",
       "      <th>PREPARED FOODS</th>\n",
       "      <td>84.698647</td>\n",
       "      <td>87.836800</td>\n",
       "      <td>88.735962</td>\n",
       "      <td>77.172997</td>\n",
       "      <td>91.886757</td>\n",
       "      <td>100.384964</td>\n",
       "      <td>102.248146</td>\n",
       "      <td>86.627441</td>\n",
       "      <td>77.344131</td>\n",
       "      <td>84.796539</td>\n",
       "      <td>78.791443</td>\n",
       "      <td>96.286926</td>\n",
       "      <td>84.693817</td>\n",
       "      <td>91.509422</td>\n",
       "      <td>86.062500</td>\n",
       "      <td>85.954132</td>\n",
       "    </tr>\n",
       "    <tr>\n",
       "      <th>PRODUCE</th>\n",
       "      <td>2257.140625</td>\n",
       "      <td>2609.180176</td>\n",
       "      <td>3122.895752</td>\n",
       "      <td>1792.220947</td>\n",
       "      <td>2079.319580</td>\n",
       "      <td>2418.970215</td>\n",
       "      <td>2675.105713</td>\n",
       "      <td>2111.133545</td>\n",
       "      <td>2168.535400</td>\n",
       "      <td>2663.076172</td>\n",
       "      <td>1670.264893</td>\n",
       "      <td>2198.854492</td>\n",
       "      <td>2070.154785</td>\n",
       "      <td>2331.922363</td>\n",
       "      <td>2134.399902</td>\n",
       "      <td>2316.832764</td>\n",
       "    </tr>\n",
       "    <tr>\n",
       "      <th>SCHOOL AND OFFICE SUPPLIES</th>\n",
       "      <td>30.111111</td>\n",
       "      <td>49.333332</td>\n",
       "      <td>57.481480</td>\n",
       "      <td>51.907406</td>\n",
       "      <td>63.222221</td>\n",
       "      <td>85.203705</td>\n",
       "      <td>100.277779</td>\n",
       "      <td>64.407410</td>\n",
       "      <td>59.759258</td>\n",
       "      <td>53.740742</td>\n",
       "      <td>42.962963</td>\n",
       "      <td>65.240738</td>\n",
       "      <td>67.481483</td>\n",
       "      <td>68.851852</td>\n",
       "      <td>52.333332</td>\n",
       "      <td>46.851852</td>\n",
       "    </tr>\n",
       "    <tr>\n",
       "      <th>SEAFOOD</th>\n",
       "      <td>20.488333</td>\n",
       "      <td>20.346851</td>\n",
       "      <td>20.801037</td>\n",
       "      <td>17.116297</td>\n",
       "      <td>25.553963</td>\n",
       "      <td>24.209518</td>\n",
       "      <td>23.512852</td>\n",
       "      <td>18.419851</td>\n",
       "      <td>18.481131</td>\n",
       "      <td>18.181425</td>\n",
       "      <td>13.284463</td>\n",
       "      <td>23.566963</td>\n",
       "      <td>19.037592</td>\n",
       "      <td>20.704575</td>\n",
       "      <td>17.975555</td>\n",
       "      <td>17.966240</td>\n",
       "    </tr>\n",
       "  </tbody>\n",
       "</table>\n",
       "<p>6864 rows × 16 columns</p>\n",
       "</div>"
      ],
      "text/plain": [
       "                                          y_step_1     y_step_2     y_step_3  \\\n",
       "date       family                                                              \n",
       "2017-01-05 AUTOMOTIVE                     6.333333     6.018518    10.259259   \n",
       "           BABY CARE                      0.351852     0.277778     0.259259   \n",
       "           BEAUTY                         5.925926     6.518518    10.037037   \n",
       "           BEVERAGES                   3258.796387  3507.277832  4848.518555   \n",
       "           BOOKS                          0.407407     0.537037     0.481481   \n",
       "...                                            ...          ...          ...   \n",
       "2017-07-31 POULTRY                      364.955658   403.601349   377.313965   \n",
       "           PREPARED FOODS                84.698647    87.836800    88.735962   \n",
       "           PRODUCE                     2257.140625  2609.180176  3122.895752   \n",
       "           SCHOOL AND OFFICE SUPPLIES    30.111111    49.333332    57.481480   \n",
       "           SEAFOOD                       20.488333    20.346851    20.801037   \n",
       "\n",
       "                                          y_step_4     y_step_5     y_step_6  \\\n",
       "date       family                                                              \n",
       "2017-01-05 AUTOMOTIVE                     9.388889     5.944445     4.777778   \n",
       "           BABY CARE                      0.240741     0.444444     0.240741   \n",
       "           BEAUTY                        11.611111     5.648148     6.500000   \n",
       "           BEVERAGES                   5503.647949  3448.203613  3171.740723   \n",
       "           BOOKS                          0.722222     0.500000     0.518519   \n",
       "...                                            ...          ...          ...   \n",
       "2017-07-31 POULTRY                      316.436096   533.497070   416.454010   \n",
       "           PREPARED FOODS                77.172997    91.886757   100.384964   \n",
       "           PRODUCE                     1792.220947  2079.319580  2418.970215   \n",
       "           SCHOOL AND OFFICE SUPPLIES    51.907406    63.222221    85.203705   \n",
       "           SEAFOOD                       17.116297    25.553963    24.209518   \n",
       "\n",
       "                                          y_step_7     y_step_8     y_step_9  \\\n",
       "date       family                                                              \n",
       "2017-01-05 AUTOMOTIVE                     6.314815     5.388889     5.240741   \n",
       "           BABY CARE                      0.277778     0.296296     0.296296   \n",
       "           BEAUTY                         5.277778     4.370370     4.703704   \n",
       "           BEVERAGES                   3046.870361  2693.722168  3226.037109   \n",
       "           BOOKS                          0.481481     0.388889     0.444444   \n",
       "...                                            ...          ...          ...   \n",
       "2017-07-31 POULTRY                      464.596558   344.051727   313.780884   \n",
       "           PREPARED FOODS               102.248146    86.627441    77.344131   \n",
       "           PRODUCE                     2675.105713  2111.133545  2168.535400   \n",
       "           SCHOOL AND OFFICE SUPPLIES   100.277779    64.407410    59.759258   \n",
       "           SEAFOOD                       23.512852    18.419851    18.481131   \n",
       "\n",
       "                                         y_step_10    y_step_11    y_step_12  \\\n",
       "date       family                                                              \n",
       "2017-01-05 AUTOMOTIVE                     8.500000    10.259259     6.407407   \n",
       "           BABY CARE                      0.388889     0.425926     0.314815   \n",
       "           BEAUTY                         7.777778     9.037037     5.648148   \n",
       "           BEVERAGES                   4667.296387  5580.611328  3700.370361   \n",
       "           BOOKS                          0.574074     0.555556     0.388889   \n",
       "...                                            ...          ...          ...   \n",
       "2017-07-31 POULTRY                      305.270203   278.819855   468.857361   \n",
       "           PREPARED FOODS                84.796539    78.791443    96.286926   \n",
       "           PRODUCE                     2663.076172  1670.264893  2198.854492   \n",
       "           SCHOOL AND OFFICE SUPPLIES    53.740742    42.962963    65.240738   \n",
       "           SEAFOOD                       18.181425    13.284463    23.566963   \n",
       "\n",
       "                                         y_step_13    y_step_14    y_step_15  \\\n",
       "date       family                                                              \n",
       "2017-01-05 AUTOMOTIVE                     5.685185     5.703704     4.777778   \n",
       "           BABY CARE                      0.166667     0.222222     0.129630   \n",
       "           BEAUTY                         5.351852     4.740741     3.981482   \n",
       "           BEVERAGES                   3409.796387  3263.462891  2676.573975   \n",
       "           BOOKS                          0.500000     0.407407     0.277778   \n",
       "...                                            ...          ...          ...   \n",
       "2017-07-31 POULTRY                      354.342773   379.801208   344.398285   \n",
       "           PREPARED FOODS                84.693817    91.509422    86.062500   \n",
       "           PRODUCE                     2070.154785  2331.922363  2134.399902   \n",
       "           SCHOOL AND OFFICE SUPPLIES    67.481483    68.851852    52.333332   \n",
       "           SEAFOOD                       19.037592    20.704575    17.975555   \n",
       "\n",
       "                                         y_step_16  \n",
       "date       family                                   \n",
       "2017-01-05 AUTOMOTIVE                     5.148148  \n",
       "           BABY CARE                      0.166667  \n",
       "           BEAUTY                         4.592593  \n",
       "           BEVERAGES                   3003.555664  \n",
       "           BOOKS                          0.351852  \n",
       "...                                            ...  \n",
       "2017-07-31 POULTRY                      325.679810  \n",
       "           PREPARED FOODS                85.954132  \n",
       "           PRODUCE                     2316.832764  \n",
       "           SCHOOL AND OFFICE SUPPLIES    46.851852  \n",
       "           SEAFOOD                       17.966240  \n",
       "\n",
       "[6864 rows x 16 columns]"
      ]
     },
     "metadata": {},
     "output_type": "display_data"
    }
   ],
   "source": [
    "le = LabelEncoder()\n",
    "X = (X\n",
    "    .stack('family')  # wide to long\n",
    "    .reset_index('family')  # convert index to column\n",
    "    .assign(family=lambda x: le.fit_transform(x.family))  # label encode\n",
    ")\n",
    "y = y.stack('family')  # wide to long\n",
    "\n",
    "display(y)"
   ]
  },
  {
   "cell_type": "code",
   "execution_count": 13,
   "id": "f4e255da",
   "metadata": {
    "execution": {
     "iopub.execute_input": "2023-02-13T07:32:21.036999Z",
     "iopub.status.busy": "2023-02-13T07:32:21.036518Z",
     "iopub.status.idle": "2023-02-13T07:32:22.189915Z",
     "shell.execute_reply": "2023-02-13T07:32:22.188604Z"
    },
    "papermill": {
     "duration": 1.1645,
     "end_time": "2023-02-13T07:32:22.192679",
     "exception": false,
     "start_time": "2023-02-13T07:32:21.028179",
     "status": "completed"
    },
    "tags": []
   },
   "outputs": [],
   "source": [
    "model = RegressorChain(base_estimator=XGBRegressor())\n"
   ]
  },
  {
   "cell_type": "code",
   "execution_count": 14,
   "id": "e65e0ac8",
   "metadata": {
    "execution": {
     "iopub.execute_input": "2023-02-13T07:32:22.207717Z",
     "iopub.status.busy": "2023-02-13T07:32:22.207320Z",
     "iopub.status.idle": "2023-02-13T07:32:42.827228Z",
     "shell.execute_reply": "2023-02-13T07:32:42.826207Z"
    },
    "papermill": {
     "duration": 20.630733,
     "end_time": "2023-02-13T07:32:42.829922",
     "exception": false,
     "start_time": "2023-02-13T07:32:22.199189",
     "status": "completed"
    },
    "tags": []
   },
   "outputs": [],
   "source": [
    "model.fit(X, y)\n",
    "y_pred1 = pd.DataFrame(\n",
    "    model.predict(X),\n",
    "    index=y.index,\n",
    "    columns=y.columns,\n",
    ").clip(0.0)"
   ]
  },
  {
   "cell_type": "markdown",
   "id": "2ad16386",
   "metadata": {
    "papermill": {
     "duration": 0.006184,
     "end_time": "2023-02-13T07:32:42.842650",
     "exception": false,
     "start_time": "2023-02-13T07:32:42.836466",
     "status": "completed"
    },
    "tags": []
   },
   "source": [
    "**Sample of the 16-step predictions this model makes on the 'grocery' training data**"
   ]
  },
  {
   "cell_type": "code",
   "execution_count": 15,
   "id": "1a48381d",
   "metadata": {
    "execution": {
     "iopub.execute_input": "2023-02-13T07:32:42.857945Z",
     "iopub.status.busy": "2023-02-13T07:32:42.856996Z",
     "iopub.status.idle": "2023-02-13T07:32:43.531824Z",
     "shell.execute_reply": "2023-02-13T07:32:43.530242Z"
    },
    "papermill": {
     "duration": 0.685151,
     "end_time": "2023-02-13T07:32:43.534383",
     "exception": false,
     "start_time": "2023-02-13T07:32:42.849232",
     "status": "completed"
    },
    "tags": []
   },
   "outputs": [
    {
     "data": {
      "image/png": "[encoded data removed]",
      "text/plain": [
       "<Figure size 792x288 with 1 Axes>"
      ]
     },
     "metadata": {},
     "output_type": "display_data"
    }
   ],
   "source": [
    "FAMILY = 'GROCERY I'\n",
    "START = '2017-04-01'\n",
    "EVERY = 16\n",
    "\n",
    "y_pred_ = y_pred1.xs(FAMILY, level='family', axis=0).loc[START:]\n",
    "y_ = family_sales.loc[START:, 'sales'].loc[:, FAMILY]\n",
    "\n",
    "fig, ax = plt.subplots(1, 1, figsize=(11, 4))\n",
    "ax = y_.plot(**plot_params, ax=ax, alpha=0.5)\n",
    "ax = plot_multistep(y_pred_, ax=ax, every=EVERY)\n",
    "_ = ax.legend([FAMILY, FAMILY + ' Forecast'])"
   ]
  },
  {
   "cell_type": "code",
   "execution_count": 16,
   "id": "dcf7a731",
   "metadata": {
    "execution": {
     "iopub.execute_input": "2023-02-13T07:32:43.552361Z",
     "iopub.status.busy": "2023-02-13T07:32:43.551942Z",
     "iopub.status.idle": "2023-02-13T07:32:43.563787Z",
     "shell.execute_reply": "2023-02-13T07:32:43.562198Z"
    },
    "papermill": {
     "duration": 0.023925,
     "end_time": "2023-02-13T07:32:43.566205",
     "exception": false,
     "start_time": "2023-02-13T07:32:43.542280",
     "status": "completed"
    },
    "tags": []
   },
   "outputs": [
    {
     "name": "stdout",
     "output_type": "stream",
     "text": [
      "MAE: 33.960145347017296\n"
     ]
    }
   ],
   "source": [
    "from sklearn.metrics import mean_absolute_error\n",
    "score = mean_absolute_error(y, y_pred1)\n",
    "print('MAE:', score)"
   ]
  }
 ],
 "metadata": {
  "kernelspec": {
   "display_name": "Python 3",
   "language": "python",
   "name": "python3"
  },
  "language_info": {
   "codemirror_mode": {
    "name": "ipython",
    "version": 3
   },
   "file_extension": ".py",
   "mimetype": "text/x-python",
   "name": "python",
   "nbconvert_exporter": "python",
   "pygments_lexer": "ipython3",
   "version": "3.7.12"
  },
  "papermill": {
   "default_parameters": {},
   "duration": 6149.569321,
   "end_time": "2023-02-13T07:32:44.509354",
   "environment_variables": {},
   "exception": null,
   "input_path": "__notebook__.ipynb",
   "output_path": "__notebook__.ipynb",
   "parameters": {},
   "start_time": "2023-02-13T05:50:14.940033",
   "version": "2.3.4"
  },
  "widgets": {
   "application/vnd.jupyter.widget-state+json": {
    "state": {
     "29723c8c13f04260b0ff45d7c4d5cc02": {
      "model_module": "@jupyter-widgets/base",
      "model_module_version": "1.2.0",
      "model_name": "LayoutModel",
      "state": {
       "_model_module": "@jupyter-widgets/base",
       "_model_module_version": "1.2.0",
       "_model_name": "LayoutModel",
       "_view_count": null,
       "_view_module": "@jupyter-widgets/base",
       "_view_module_version": "1.2.0",
       "_view_name": "LayoutView",
       "align_content": null,
       "align_items": null,
       "align_self": null,
       "border": null,
       "bottom": null,
       "display": null,
       "flex": null,
       "flex_flow": null,
       "grid_area": null,
       "grid_auto_columns": null,
       "grid_auto_flow": null,
       "grid_auto_rows": null,
       "grid_column": null,
       "grid_gap": null,
       "grid_row": null,
       "grid_template_areas": null,
       "grid_template_columns": null,
       "grid_template_rows": null,
       "height": null,
       "justify_content": null,
       "justify_items": null,
       "left": null,
       "margin": null,
       "max_height": null,
       "max_width": null,
       "min_height": null,
       "min_width": null,
       "object_fit": null,
       "object_position": null,
       "order": null,
       "overflow": null,
       "overflow_x": null,
       "overflow_y": null,
       "padding": null,
       "right": null,
       "top": null,
       "visibility": null,
       "width": null
      }
     },
     "32dce4640d1d4cba8de213a961203b94": {
      "model_module": "@jupyter-widgets/base",
      "model_module_version": "1.2.0",
      "model_name": "LayoutModel",
      "state": {
       "_model_module": "@jupyter-widgets/base",
       "_model_module_version": "1.2.0",
       "_model_name": "LayoutModel",
       "_view_count": null,
       "_view_module": "@jupyter-widgets/base",
       "_view_module_version": "1.2.0",
       "_view_name": "LayoutView",
       "align_content": null,
       "align_items": null,
       "align_self": null,
       "border": null,
       "bottom": null,
       "display": null,
       "flex": null,
       "flex_flow": null,
       "grid_area": null,
       "grid_auto_columns": null,
       "grid_auto_flow": null,
       "grid_auto_rows": null,
       "grid_column": null,
       "grid_gap": null,
       "grid_row": null,
       "grid_template_areas": null,
       "grid_template_columns": null,
       "grid_template_rows": null,
       "height": null,
       "justify_content": null,
       "justify_items": null,
       "left": null,
       "margin": null,
       "max_height": null,
       "max_width": null,
       "min_height": null,
       "min_width": null,
       "object_fit": null,
       "object_position": null,
       "order": null,
       "overflow": null,
       "overflow_x": null,
       "overflow_y": null,
       "padding": null,
       "right": null,
       "top": null,
       "visibility": null,
       "width": null
      }
     },
     "54f6a88c9e54473cb0bc474655c346d1": {
      "model_module": "@jupyter-widgets/base",
      "model_module_version": "1.2.0",
      "model_name": "LayoutModel",
      "state": {
       "_model_module": "@jupyter-widgets/base",
       "_model_module_version": "1.2.0",
       "_model_name": "LayoutModel",
       "_view_count": null,
       "_view_module": "@jupyter-widgets/base",
       "_view_module_version": "1.2.0",
       "_view_name": "LayoutView",
       "align_content": null,
       "align_items": null,
       "align_self": null,
       "border": null,
       "bottom": null,
       "display": null,
       "flex": null,
       "flex_flow": null,
       "grid_area": null,
       "grid_auto_columns": null,
       "grid_auto_flow": null,
       "grid_auto_rows": null,
       "grid_column": null,
       "grid_gap": null,
       "grid_row": null,
       "grid_template_areas": null,
       "grid_template_columns": null,
       "grid_template_rows": null,
       "height": null,
       "justify_content": null,
       "justify_items": null,
       "left": null,
       "margin": null,
       "max_height": null,
       "max_width": null,
       "min_height": null,
       "min_width": null,
       "object_fit": null,
       "object_position": null,
       "order": null,
       "overflow": null,
       "overflow_x": null,
       "overflow_y": null,
       "padding": null,
       "right": null,
       "top": null,
       "visibility": null,
       "width": null
      }
     },
     "7916e08f8e1a402cb610610d2059f613": {
      "model_module": "@jupyter-widgets/base",
      "model_module_version": "1.2.0",
      "model_name": "LayoutModel",
      "state": {
       "_model_module": "@jupyter-widgets/base",
       "_model_module_version": "1.2.0",
       "_model_name": "LayoutModel",
       "_view_count": null,
       "_view_module": "@jupyter-widgets/base",
       "_view_module_version": "1.2.0",
       "_view_name": "LayoutView",
       "align_content": null,
       "align_items": null,
       "align_self": null,
       "border": null,
       "bottom": null,
       "display": null,
       "flex": null,
       "flex_flow": null,
       "grid_area": null,
       "grid_auto_columns": null,
       "grid_auto_flow": null,
       "grid_auto_rows": null,
       "grid_column": null,
       "grid_gap": null,
       "grid_row": null,
       "grid_template_areas": null,
       "grid_template_columns": null,
       "grid_template_rows": null,
       "height": null,
       "justify_content": null,
       "justify_items": null,
       "left": null,
       "margin": null,
       "max_height": null,
       "max_width": null,
       "min_height": null,
       "min_width": null,
       "object_fit": null,
       "object_position": null,
       "order": null,
       "overflow": null,
       "overflow_x": null,
       "overflow_y": null,
       "padding": null,
       "right": null,
       "top": null,
       "visibility": null,
       "width": null
      }
     },
     "831f5d53311646e484cc956809836a04": {
      "model_module": "@jupyter-widgets/controls",
      "model_module_version": "1.5.0",
      "model_name": "TabModel",
      "state": {
       "_dom_classes": [],
       "_model_module": "@jupyter-widgets/controls",
       "_model_module_version": "1.5.0",
       "_model_name": "TabModel",
       "_titles": {
        "0": "Dataset 1",
        "1": "Dataset 2",
        "2": "Dataset 3"
       },
       "_view_count": null,
       "_view_module": "@jupyter-widgets/controls",
       "_view_module_version": "1.5.0",
       "_view_name": "TabView",
       "box_style": "",
       "children": [
        "IPY_MODEL_83a05c0f84464a4ba54d5bc58e159daa",
        "IPY_MODEL_e648bb548c7b4426b324e1ae14b78cd7",
        "IPY_MODEL_84772fbc69f548189eae4e2fb738735d"
       ],
       "layout": "IPY_MODEL_32dce4640d1d4cba8de213a961203b94",
       "selected_index": 0
      }
     },
     "83a05c0f84464a4ba54d5bc58e159daa": {
      "model_module": "@jupyter-widgets/output",
      "model_module_version": "1.0.0",
      "model_name": "OutputModel",
      "state": {
       "_dom_classes": [],
       "_model_module": "@jupyter-widgets/output",
       "_model_module_version": "1.0.0",
       "_model_name": "OutputModel",
       "_view_count": null,
       "_view_module": "@jupyter-widgets/output",
       "_view_module_version": "1.0.0",
       "_view_name": "OutputView",
       "layout": "IPY_MODEL_7916e08f8e1a402cb610610d2059f613",
       "msg_id": "",
       "outputs": [
        {
         "data": {
          "text/html": "<style type=\"text/css\">\n#T_b0f7f_row0_col0, #T_b0f7f_row1_col0, #T_b0f7f_row2_col0, #T_b0f7f_row3_col0, #T_b0f7f_row4_col0, #T_b0f7f_row5_col0, #T_b0f7f_row6_col0, #T_b0f7f_row7_col0, #T_b0f7f_row8_col0, #T_b0f7f_row9_col0 {\n  background-color: LavenderBlush;\n}\n#T_b0f7f_row0_col1, #T_b0f7f_row0_col2, #T_b0f7f_row0_col3, #T_b0f7f_row1_col1, #T_b0f7f_row1_col2, #T_b0f7f_row1_col3, #T_b0f7f_row2_col1, #T_b0f7f_row2_col2, #T_b0f7f_row2_col3, #T_b0f7f_row3_col1, #T_b0f7f_row3_col2, #T_b0f7f_row3_col3, #T_b0f7f_row4_col1, #T_b0f7f_row4_col2, #T_b0f7f_row4_col3, #T_b0f7f_row5_col1, #T_b0f7f_row5_col2, #T_b0f7f_row5_col3, #T_b0f7f_row6_col1, #T_b0f7f_row6_col2, #T_b0f7f_row6_col3, #T_b0f7f_row7_col1, #T_b0f7f_row7_col2, #T_b0f7f_row7_col3, #T_b0f7f_row8_col1, #T_b0f7f_row8_col2, #T_b0f7f_row8_col3, #T_b0f7f_row9_col1, #T_b0f7f_row9_col2, #T_b0f7f_row9_col3 {\n  background-color: Lavender;\n}\n</style>\n<table id=\"T_b0f7f_\">\n  <thead>\n    <tr>\n      <th class=\"blank level0\" >&nbsp;</th>\n      <th class=\"col_heading level0 col0\" >Targets</th>\n      <th class=\"col_heading level0 col1\" colspan=\"3\">Features</th>\n    </tr>\n    <tr>\n      <th class=\"blank level1\" >&nbsp;</th>\n      <th class=\"col_heading level1 col0\" >y_step_1</th>\n      <th class=\"col_heading level1 col1\" >y_lag_1</th>\n      <th class=\"col_heading level1 col2\" >y_lag_2</th>\n      <th class=\"col_heading level1 col3\" >y_lag_3</th>\n    </tr>\n    <tr>\n      <th class=\"index_name level0\" >Year</th>\n      <th class=\"blank col0\" >&nbsp;</th>\n      <th class=\"blank col1\" >&nbsp;</th>\n      <th class=\"blank col2\" >&nbsp;</th>\n      <th class=\"blank col3\" >&nbsp;</th>\n    </tr>\n  </thead>\n  <tbody>\n    <tr>\n      <th id=\"T_b0f7f_level0_row0\" class=\"row_heading level0 row0\" >2010</th>\n      <td id=\"T_b0f7f_row0_col0\" class=\"data row0 col0\" >0</td>\n      <td id=\"T_b0f7f_row0_col1\" class=\"data row0 col1\" >nan</td>\n      <td id=\"T_b0f7f_row0_col2\" class=\"data row0 col2\" >nan</td>\n      <td id=\"T_b0f7f_row0_col3\" class=\"data row0 col3\" >nan</td>\n    </tr>\n    <tr>\n      <th id=\"T_b0f7f_level0_row1\" class=\"row_heading level0 row1\" >2011</th>\n      <td id=\"T_b0f7f_row1_col0\" class=\"data row1 col0\" >1</td>\n      <td id=\"T_b0f7f_row1_col1\" class=\"data row1 col1\" >0</td>\n      <td id=\"T_b0f7f_row1_col2\" class=\"data row1 col2\" >nan</td>\n      <td id=\"T_b0f7f_row1_col3\" class=\"data row1 col3\" >nan</td>\n    </tr>\n    <tr>\n      <th id=\"T_b0f7f_level0_row2\" class=\"row_heading level0 row2\" >2012</th>\n      <td id=\"T_b0f7f_row2_col0\" class=\"data row2 col0\" >2</td>\n      <td id=\"T_b0f7f_row2_col1\" class=\"data row2 col1\" >1</td>\n      <td id=\"T_b0f7f_row2_col2\" class=\"data row2 col2\" >0</td>\n      <td id=\"T_b0f7f_row2_col3\" class=\"data row2 col3\" >nan</td>\n    </tr>\n    <tr>\n      <th id=\"T_b0f7f_level0_row3\" class=\"row_heading level0 row3\" >2013</th>\n      <td id=\"T_b0f7f_row3_col0\" class=\"data row3 col0\" >3</td>\n      <td id=\"T_b0f7f_row3_col1\" class=\"data row3 col1\" >2</td>\n      <td id=\"T_b0f7f_row3_col2\" class=\"data row3 col2\" >1</td>\n      <td id=\"T_b0f7f_row3_col3\" class=\"data row3 col3\" >0</td>\n    </tr>\n    <tr>\n      <th id=\"T_b0f7f_level0_row4\" class=\"row_heading level0 row4\" >2014</th>\n      <td id=\"T_b0f7f_row4_col0\" class=\"data row4 col0\" >4</td>\n      <td id=\"T_b0f7f_row4_col1\" class=\"data row4 col1\" >3</td>\n      <td id=\"T_b0f7f_row4_col2\" class=\"data row4 col2\" >2</td>\n      <td id=\"T_b0f7f_row4_col3\" class=\"data row4 col3\" >1</td>\n    </tr>\n    <tr>\n      <th id=\"T_b0f7f_level0_row5\" class=\"row_heading level0 row5\" >2015</th>\n      <td id=\"T_b0f7f_row5_col0\" class=\"data row5 col0\" >5</td>\n      <td id=\"T_b0f7f_row5_col1\" class=\"data row5 col1\" >4</td>\n      <td id=\"T_b0f7f_row5_col2\" class=\"data row5 col2\" >3</td>\n      <td id=\"T_b0f7f_row5_col3\" class=\"data row5 col3\" >2</td>\n    </tr>\n    <tr>\n      <th id=\"T_b0f7f_level0_row6\" class=\"row_heading level0 row6\" >2016</th>\n      <td id=\"T_b0f7f_row6_col0\" class=\"data row6 col0\" >6</td>\n      <td id=\"T_b0f7f_row6_col1\" class=\"data row6 col1\" >5</td>\n      <td id=\"T_b0f7f_row6_col2\" class=\"data row6 col2\" >4</td>\n      <td id=\"T_b0f7f_row6_col3\" class=\"data row6 col3\" >3</td>\n    </tr>\n    <tr>\n      <th id=\"T_b0f7f_level0_row7\" class=\"row_heading level0 row7\" >2017</th>\n      <td id=\"T_b0f7f_row7_col0\" class=\"data row7 col0\" >7</td>\n      <td id=\"T_b0f7f_row7_col1\" class=\"data row7 col1\" >6</td>\n      <td id=\"T_b0f7f_row7_col2\" class=\"data row7 col2\" >5</td>\n      <td id=\"T_b0f7f_row7_col3\" class=\"data row7 col3\" >4</td>\n    </tr>\n    <tr>\n      <th id=\"T_b0f7f_level0_row8\" class=\"row_heading level0 row8\" >2018</th>\n      <td id=\"T_b0f7f_row8_col0\" class=\"data row8 col0\" >8</td>\n      <td id=\"T_b0f7f_row8_col1\" class=\"data row8 col1\" >7</td>\n      <td id=\"T_b0f7f_row8_col2\" class=\"data row8 col2\" >6</td>\n      <td id=\"T_b0f7f_row8_col3\" class=\"data row8 col3\" >5</td>\n    </tr>\n    <tr>\n      <th id=\"T_b0f7f_level0_row9\" class=\"row_heading level0 row9\" >2019</th>\n      <td id=\"T_b0f7f_row9_col0\" class=\"data row9 col0\" >9</td>\n      <td id=\"T_b0f7f_row9_col1\" class=\"data row9 col1\" >8</td>\n      <td id=\"T_b0f7f_row9_col2\" class=\"data row9 col2\" >7</td>\n      <td id=\"T_b0f7f_row9_col3\" class=\"data row9 col3\" >6</td>\n    </tr>\n  </tbody>\n</table>\n",
          "text/plain": "<pandas.io.formats.style.Styler at 0x7fafa47a7f10>"
         },
         "metadata": {},
         "output_type": "display_data"
        }
       ]
      }
     },
     "84772fbc69f548189eae4e2fb738735d": {
      "model_module": "@jupyter-widgets/output",
      "model_module_version": "1.0.0",
      "model_name": "OutputModel",
      "state": {
       "_dom_classes": [],
       "_model_module": "@jupyter-widgets/output",
       "_model_module_version": "1.0.0",
       "_model_name": "OutputModel",
       "_view_count": null,
       "_view_module": "@jupyter-widgets/output",
       "_view_module_version": "1.0.0",
       "_view_name": "OutputView",
       "layout": "IPY_MODEL_29723c8c13f04260b0ff45d7c4d5cc02",
       "msg_id": "",
       "outputs": [
        {
         "data": {
          "text/html": "<style type=\"text/css\">\n#T_f1c0f_row0_col0, #T_f1c0f_row0_col1, #T_f1c0f_row0_col2, #T_f1c0f_row1_col0, #T_f1c0f_row1_col1, #T_f1c0f_row1_col2, #T_f1c0f_row2_col0, #T_f1c0f_row2_col1, #T_f1c0f_row2_col2, #T_f1c0f_row3_col0, #T_f1c0f_row3_col1, #T_f1c0f_row3_col2, #T_f1c0f_row4_col0, #T_f1c0f_row4_col1, #T_f1c0f_row4_col2, #T_f1c0f_row5_col0, #T_f1c0f_row5_col1, #T_f1c0f_row5_col2, #T_f1c0f_row6_col0, #T_f1c0f_row6_col1, #T_f1c0f_row6_col2, #T_f1c0f_row7_col0, #T_f1c0f_row7_col1, #T_f1c0f_row7_col2, #T_f1c0f_row8_col0, #T_f1c0f_row8_col1, #T_f1c0f_row8_col2, #T_f1c0f_row9_col0, #T_f1c0f_row9_col1, #T_f1c0f_row9_col2 {\n  background-color: LavenderBlush;\n}\n#T_f1c0f_row0_col3, #T_f1c0f_row0_col4, #T_f1c0f_row0_col5, #T_f1c0f_row0_col6, #T_f1c0f_row1_col3, #T_f1c0f_row1_col4, #T_f1c0f_row1_col5, #T_f1c0f_row1_col6, #T_f1c0f_row2_col3, #T_f1c0f_row2_col4, #T_f1c0f_row2_col5, #T_f1c0f_row2_col6, #T_f1c0f_row3_col3, #T_f1c0f_row3_col4, #T_f1c0f_row3_col5, #T_f1c0f_row3_col6, #T_f1c0f_row4_col3, #T_f1c0f_row4_col4, #T_f1c0f_row4_col5, #T_f1c0f_row4_col6, #T_f1c0f_row5_col3, #T_f1c0f_row5_col4, #T_f1c0f_row5_col5, #T_f1c0f_row5_col6, #T_f1c0f_row6_col3, #T_f1c0f_row6_col4, #T_f1c0f_row6_col5, #T_f1c0f_row6_col6, #T_f1c0f_row7_col3, #T_f1c0f_row7_col4, #T_f1c0f_row7_col5, #T_f1c0f_row7_col6, #T_f1c0f_row8_col3, #T_f1c0f_row8_col4, #T_f1c0f_row8_col5, #T_f1c0f_row8_col6, #T_f1c0f_row9_col3, #T_f1c0f_row9_col4, #T_f1c0f_row9_col5, #T_f1c0f_row9_col6 {\n  background-color: Lavender;\n}\n</style>\n<table id=\"T_f1c0f_\">\n  <thead>\n    <tr>\n      <th class=\"blank level0\" >&nbsp;</th>\n      <th class=\"col_heading level0 col0\" colspan=\"3\">Targets</th>\n      <th class=\"col_heading level0 col3\" colspan=\"4\">Features</th>\n    </tr>\n    <tr>\n      <th class=\"blank level1\" >&nbsp;</th>\n      <th class=\"col_heading level1 col0\" >y_step_3</th>\n      <th class=\"col_heading level1 col1\" >y_step_2</th>\n      <th class=\"col_heading level1 col2\" >y_step_1</th>\n      <th class=\"col_heading level1 col3\" >y_lag_1</th>\n      <th class=\"col_heading level1 col4\" >y_lag_2</th>\n      <th class=\"col_heading level1 col5\" >y_lag_3</th>\n      <th class=\"col_heading level1 col6\" >y_lag_4</th>\n    </tr>\n    <tr>\n      <th class=\"index_name level0\" >Year</th>\n      <th class=\"blank col0\" >&nbsp;</th>\n      <th class=\"blank col1\" >&nbsp;</th>\n      <th class=\"blank col2\" >&nbsp;</th>\n      <th class=\"blank col3\" >&nbsp;</th>\n      <th class=\"blank col4\" >&nbsp;</th>\n      <th class=\"blank col5\" >&nbsp;</th>\n      <th class=\"blank col6\" >&nbsp;</th>\n    </tr>\n  </thead>\n  <tbody>\n    <tr>\n      <th id=\"T_f1c0f_level0_row0\" class=\"row_heading level0 row0\" >2010</th>\n      <td id=\"T_f1c0f_row0_col0\" class=\"data row0 col0\" >2</td>\n      <td id=\"T_f1c0f_row0_col1\" class=\"data row0 col1\" >1</td>\n      <td id=\"T_f1c0f_row0_col2\" class=\"data row0 col2\" >0</td>\n      <td id=\"T_f1c0f_row0_col3\" class=\"data row0 col3\" >nan</td>\n      <td id=\"T_f1c0f_row0_col4\" class=\"data row0 col4\" >nan</td>\n      <td id=\"T_f1c0f_row0_col5\" class=\"data row0 col5\" >nan</td>\n      <td id=\"T_f1c0f_row0_col6\" class=\"data row0 col6\" >nan</td>\n    </tr>\n    <tr>\n      <th id=\"T_f1c0f_level0_row1\" class=\"row_heading level0 row1\" >2011</th>\n      <td id=\"T_f1c0f_row1_col0\" class=\"data row1 col0\" >3</td>\n      <td id=\"T_f1c0f_row1_col1\" class=\"data row1 col1\" >2</td>\n      <td id=\"T_f1c0f_row1_col2\" class=\"data row1 col2\" >1</td>\n      <td id=\"T_f1c0f_row1_col3\" class=\"data row1 col3\" >0</td>\n      <td id=\"T_f1c0f_row1_col4\" class=\"data row1 col4\" >nan</td>\n      <td id=\"T_f1c0f_row1_col5\" class=\"data row1 col5\" >nan</td>\n      <td id=\"T_f1c0f_row1_col6\" class=\"data row1 col6\" >nan</td>\n    </tr>\n    <tr>\n      <th id=\"T_f1c0f_level0_row2\" class=\"row_heading level0 row2\" >2012</th>\n      <td id=\"T_f1c0f_row2_col0\" class=\"data row2 col0\" >4</td>\n      <td id=\"T_f1c0f_row2_col1\" class=\"data row2 col1\" >3</td>\n      <td id=\"T_f1c0f_row2_col2\" class=\"data row2 col2\" >2</td>\n      <td id=\"T_f1c0f_row2_col3\" class=\"data row2 col3\" >1</td>\n      <td id=\"T_f1c0f_row2_col4\" class=\"data row2 col4\" >0</td>\n      <td id=\"T_f1c0f_row2_col5\" class=\"data row2 col5\" >nan</td>\n      <td id=\"T_f1c0f_row2_col6\" class=\"data row2 col6\" >nan</td>\n    </tr>\n    <tr>\n      <th id=\"T_f1c0f_level0_row3\" class=\"row_heading level0 row3\" >2013</th>\n      <td id=\"T_f1c0f_row3_col0\" class=\"data row3 col0\" >5</td>\n      <td id=\"T_f1c0f_row3_col1\" class=\"data row3 col1\" >4</td>\n      <td id=\"T_f1c0f_row3_col2\" class=\"data row3 col2\" >3</td>\n      <td id=\"T_f1c0f_row3_col3\" class=\"data row3 col3\" >2</td>\n      <td id=\"T_f1c0f_row3_col4\" class=\"data row3 col4\" >1</td>\n      <td id=\"T_f1c0f_row3_col5\" class=\"data row3 col5\" >0</td>\n      <td id=\"T_f1c0f_row3_col6\" class=\"data row3 col6\" >nan</td>\n    </tr>\n    <tr>\n      <th id=\"T_f1c0f_level0_row4\" class=\"row_heading level0 row4\" >2014</th>\n      <td id=\"T_f1c0f_row4_col0\" class=\"data row4 col0\" >6</td>\n      <td id=\"T_f1c0f_row4_col1\" class=\"data row4 col1\" >5</td>\n      <td id=\"T_f1c0f_row4_col2\" class=\"data row4 col2\" >4</td>\n      <td id=\"T_f1c0f_row4_col3\" class=\"data row4 col3\" >3</td>\n      <td id=\"T_f1c0f_row4_col4\" class=\"data row4 col4\" >2</td>\n      <td id=\"T_f1c0f_row4_col5\" class=\"data row4 col5\" >1</td>\n      <td id=\"T_f1c0f_row4_col6\" class=\"data row4 col6\" >0</td>\n    </tr>\n    <tr>\n      <th id=\"T_f1c0f_level0_row5\" class=\"row_heading level0 row5\" >2015</th>\n      <td id=\"T_f1c0f_row5_col0\" class=\"data row5 col0\" >7</td>\n      <td id=\"T_f1c0f_row5_col1\" class=\"data row5 col1\" >6</td>\n      <td id=\"T_f1c0f_row5_col2\" class=\"data row5 col2\" >5</td>\n      <td id=\"T_f1c0f_row5_col3\" class=\"data row5 col3\" >4</td>\n      <td id=\"T_f1c0f_row5_col4\" class=\"data row5 col4\" >3</td>\n      <td id=\"T_f1c0f_row5_col5\" class=\"data row5 col5\" >2</td>\n      <td id=\"T_f1c0f_row5_col6\" class=\"data row5 col6\" >1</td>\n    </tr>\n    <tr>\n      <th id=\"T_f1c0f_level0_row6\" class=\"row_heading level0 row6\" >2016</th>\n      <td id=\"T_f1c0f_row6_col0\" class=\"data row6 col0\" >8</td>\n      <td id=\"T_f1c0f_row6_col1\" class=\"data row6 col1\" >7</td>\n      <td id=\"T_f1c0f_row6_col2\" class=\"data row6 col2\" >6</td>\n      <td id=\"T_f1c0f_row6_col3\" class=\"data row6 col3\" >5</td>\n      <td id=\"T_f1c0f_row6_col4\" class=\"data row6 col4\" >4</td>\n      <td id=\"T_f1c0f_row6_col5\" class=\"data row6 col5\" >3</td>\n      <td id=\"T_f1c0f_row6_col6\" class=\"data row6 col6\" >2</td>\n    </tr>\n    <tr>\n      <th id=\"T_f1c0f_level0_row7\" class=\"row_heading level0 row7\" >2017</th>\n      <td id=\"T_f1c0f_row7_col0\" class=\"data row7 col0\" >9</td>\n      <td id=\"T_f1c0f_row7_col1\" class=\"data row7 col1\" >8</td>\n      <td id=\"T_f1c0f_row7_col2\" class=\"data row7 col2\" >7</td>\n      <td id=\"T_f1c0f_row7_col3\" class=\"data row7 col3\" >6</td>\n      <td id=\"T_f1c0f_row7_col4\" class=\"data row7 col4\" >5</td>\n      <td id=\"T_f1c0f_row7_col5\" class=\"data row7 col5\" >4</td>\n      <td id=\"T_f1c0f_row7_col6\" class=\"data row7 col6\" >3</td>\n    </tr>\n    <tr>\n      <th id=\"T_f1c0f_level0_row8\" class=\"row_heading level0 row8\" >2018</th>\n      <td id=\"T_f1c0f_row8_col0\" class=\"data row8 col0\" >nan</td>\n      <td id=\"T_f1c0f_row8_col1\" class=\"data row8 col1\" >9</td>\n      <td id=\"T_f1c0f_row8_col2\" class=\"data row8 col2\" >8</td>\n      <td id=\"T_f1c0f_row8_col3\" class=\"data row8 col3\" >7</td>\n      <td id=\"T_f1c0f_row8_col4\" class=\"data row8 col4\" >6</td>\n      <td id=\"T_f1c0f_row8_col5\" class=\"data row8 col5\" >5</td>\n      <td id=\"T_f1c0f_row8_col6\" class=\"data row8 col6\" >4</td>\n    </tr>\n    <tr>\n      <th id=\"T_f1c0f_level0_row9\" class=\"row_heading level0 row9\" >2019</th>\n      <td id=\"T_f1c0f_row9_col0\" class=\"data row9 col0\" >nan</td>\n      <td id=\"T_f1c0f_row9_col1\" class=\"data row9 col1\" >nan</td>\n      <td id=\"T_f1c0f_row9_col2\" class=\"data row9 col2\" >9</td>\n      <td id=\"T_f1c0f_row9_col3\" class=\"data row9 col3\" >8</td>\n      <td id=\"T_f1c0f_row9_col4\" class=\"data row9 col4\" >7</td>\n      <td id=\"T_f1c0f_row9_col5\" class=\"data row9 col5\" >6</td>\n      <td id=\"T_f1c0f_row9_col6\" class=\"data row9 col6\" >5</td>\n    </tr>\n  </tbody>\n</table>\n",
          "text/plain": "<pandas.io.formats.style.Styler at 0x7fafa4940a90>"
         },
         "metadata": {},
         "output_type": "display_data"
        }
       ]
      }
     },
     "e648bb548c7b4426b324e1ae14b78cd7": {
      "model_module": "@jupyter-widgets/output",
      "model_module_version": "1.0.0",
      "model_name": "OutputModel",
      "state": {
       "_dom_classes": [],
       "_model_module": "@jupyter-widgets/output",
       "_model_module_version": "1.0.0",
       "_model_name": "OutputModel",
       "_view_count": null,
       "_view_module": "@jupyter-widgets/output",
       "_view_module_version": "1.0.0",
       "_view_name": "OutputView",
       "layout": "IPY_MODEL_54f6a88c9e54473cb0bc474655c346d1",
       "msg_id": "",
       "outputs": [
        {
         "data": {
          "text/html": "<style type=\"text/css\">\n#T_b6623_row0_col0, #T_b6623_row0_col1, #T_b6623_row0_col2, #T_b6623_row1_col0, #T_b6623_row1_col1, #T_b6623_row1_col2, #T_b6623_row2_col0, #T_b6623_row2_col1, #T_b6623_row2_col2, #T_b6623_row3_col0, #T_b6623_row3_col1, #T_b6623_row3_col2, #T_b6623_row4_col0, #T_b6623_row4_col1, #T_b6623_row4_col2, #T_b6623_row5_col0, #T_b6623_row5_col1, #T_b6623_row5_col2, #T_b6623_row6_col0, #T_b6623_row6_col1, #T_b6623_row6_col2, #T_b6623_row7_col0, #T_b6623_row7_col1, #T_b6623_row7_col2, #T_b6623_row8_col0, #T_b6623_row8_col1, #T_b6623_row8_col2, #T_b6623_row9_col0, #T_b6623_row9_col1, #T_b6623_row9_col2 {\n  background-color: LavenderBlush;\n}\n#T_b6623_row0_col3, #T_b6623_row0_col4, #T_b6623_row0_col5, #T_b6623_row0_col6, #T_b6623_row1_col3, #T_b6623_row1_col4, #T_b6623_row1_col5, #T_b6623_row1_col6, #T_b6623_row2_col3, #T_b6623_row2_col4, #T_b6623_row2_col5, #T_b6623_row2_col6, #T_b6623_row3_col3, #T_b6623_row3_col4, #T_b6623_row3_col5, #T_b6623_row3_col6, #T_b6623_row4_col3, #T_b6623_row4_col4, #T_b6623_row4_col5, #T_b6623_row4_col6, #T_b6623_row5_col3, #T_b6623_row5_col4, #T_b6623_row5_col5, #T_b6623_row5_col6, #T_b6623_row6_col3, #T_b6623_row6_col4, #T_b6623_row6_col5, #T_b6623_row6_col6, #T_b6623_row7_col3, #T_b6623_row7_col4, #T_b6623_row7_col5, #T_b6623_row7_col6, #T_b6623_row8_col3, #T_b6623_row8_col4, #T_b6623_row8_col5, #T_b6623_row8_col6, #T_b6623_row9_col3, #T_b6623_row9_col4, #T_b6623_row9_col5, #T_b6623_row9_col6 {\n  background-color: Lavender;\n}\n</style>\n<table id=\"T_b6623_\">\n  <thead>\n    <tr>\n      <th class=\"blank level0\" >&nbsp;</th>\n      <th class=\"col_heading level0 col0\" colspan=\"3\">Targets</th>\n      <th class=\"col_heading level0 col3\" colspan=\"4\">Features</th>\n    </tr>\n    <tr>\n      <th class=\"blank level1\" >&nbsp;</th>\n      <th class=\"col_heading level1 col0\" >y_step_3</th>\n      <th class=\"col_heading level1 col1\" >y_step_2</th>\n      <th class=\"col_heading level1 col2\" >y_step_1</th>\n      <th class=\"col_heading level1 col3\" >y_lag_2</th>\n      <th class=\"col_heading level1 col4\" >y_lag_3</th>\n      <th class=\"col_heading level1 col5\" >y_lag_4</th>\n      <th class=\"col_heading level1 col6\" >y_lag_5</th>\n    </tr>\n    <tr>\n      <th class=\"index_name level0\" >Year</th>\n      <th class=\"blank col0\" >&nbsp;</th>\n      <th class=\"blank col1\" >&nbsp;</th>\n      <th class=\"blank col2\" >&nbsp;</th>\n      <th class=\"blank col3\" >&nbsp;</th>\n      <th class=\"blank col4\" >&nbsp;</th>\n      <th class=\"blank col5\" >&nbsp;</th>\n      <th class=\"blank col6\" >&nbsp;</th>\n    </tr>\n  </thead>\n  <tbody>\n    <tr>\n      <th id=\"T_b6623_level0_row0\" class=\"row_heading level0 row0\" >2010</th>\n      <td id=\"T_b6623_row0_col0\" class=\"data row0 col0\" >2</td>\n      <td id=\"T_b6623_row0_col1\" class=\"data row0 col1\" >1</td>\n      <td id=\"T_b6623_row0_col2\" class=\"data row0 col2\" >0</td>\n      <td id=\"T_b6623_row0_col3\" class=\"data row0 col3\" >nan</td>\n      <td id=\"T_b6623_row0_col4\" class=\"data row0 col4\" >nan</td>\n      <td id=\"T_b6623_row0_col5\" class=\"data row0 col5\" >nan</td>\n      <td id=\"T_b6623_row0_col6\" class=\"data row0 col6\" >nan</td>\n    </tr>\n    <tr>\n      <th id=\"T_b6623_level0_row1\" class=\"row_heading level0 row1\" >2011</th>\n      <td id=\"T_b6623_row1_col0\" class=\"data row1 col0\" >3</td>\n      <td id=\"T_b6623_row1_col1\" class=\"data row1 col1\" >2</td>\n      <td id=\"T_b6623_row1_col2\" class=\"data row1 col2\" >1</td>\n      <td id=\"T_b6623_row1_col3\" class=\"data row1 col3\" >nan</td>\n      <td id=\"T_b6623_row1_col4\" class=\"data row1 col4\" >nan</td>\n      <td id=\"T_b6623_row1_col5\" class=\"data row1 col5\" >nan</td>\n      <td id=\"T_b6623_row1_col6\" class=\"data row1 col6\" >nan</td>\n    </tr>\n    <tr>\n      <th id=\"T_b6623_level0_row2\" class=\"row_heading level0 row2\" >2012</th>\n      <td id=\"T_b6623_row2_col0\" class=\"data row2 col0\" >4</td>\n      <td id=\"T_b6623_row2_col1\" class=\"data row2 col1\" >3</td>\n      <td id=\"T_b6623_row2_col2\" class=\"data row2 col2\" >2</td>\n      <td id=\"T_b6623_row2_col3\" class=\"data row2 col3\" >0</td>\n      <td id=\"T_b6623_row2_col4\" class=\"data row2 col4\" >nan</td>\n      <td id=\"T_b6623_row2_col5\" class=\"data row2 col5\" >nan</td>\n      <td id=\"T_b6623_row2_col6\" class=\"data row2 col6\" >nan</td>\n    </tr>\n    <tr>\n      <th id=\"T_b6623_level0_row3\" class=\"row_heading level0 row3\" >2013</th>\n      <td id=\"T_b6623_row3_col0\" class=\"data row3 col0\" >5</td>\n      <td id=\"T_b6623_row3_col1\" class=\"data row3 col1\" >4</td>\n      <td id=\"T_b6623_row3_col2\" class=\"data row3 col2\" >3</td>\n      <td id=\"T_b6623_row3_col3\" class=\"data row3 col3\" >1</td>\n      <td id=\"T_b6623_row3_col4\" class=\"data row3 col4\" >0</td>\n      <td id=\"T_b6623_row3_col5\" class=\"data row3 col5\" >nan</td>\n      <td id=\"T_b6623_row3_col6\" class=\"data row3 col6\" >nan</td>\n    </tr>\n    <tr>\n      <th id=\"T_b6623_level0_row4\" class=\"row_heading level0 row4\" >2014</th>\n      <td id=\"T_b6623_row4_col0\" class=\"data row4 col0\" >6</td>\n      <td id=\"T_b6623_row4_col1\" class=\"data row4 col1\" >5</td>\n      <td id=\"T_b6623_row4_col2\" class=\"data row4 col2\" >4</td>\n      <td id=\"T_b6623_row4_col3\" class=\"data row4 col3\" >2</td>\n      <td id=\"T_b6623_row4_col4\" class=\"data row4 col4\" >1</td>\n      <td id=\"T_b6623_row4_col5\" class=\"data row4 col5\" >0</td>\n      <td id=\"T_b6623_row4_col6\" class=\"data row4 col6\" >nan</td>\n    </tr>\n    <tr>\n      <th id=\"T_b6623_level0_row5\" class=\"row_heading level0 row5\" >2015</th>\n      <td id=\"T_b6623_row5_col0\" class=\"data row5 col0\" >7</td>\n      <td id=\"T_b6623_row5_col1\" class=\"data row5 col1\" >6</td>\n      <td id=\"T_b6623_row5_col2\" class=\"data row5 col2\" >5</td>\n      <td id=\"T_b6623_row5_col3\" class=\"data row5 col3\" >3</td>\n      <td id=\"T_b6623_row5_col4\" class=\"data row5 col4\" >2</td>\n      <td id=\"T_b6623_row5_col5\" class=\"data row5 col5\" >1</td>\n      <td id=\"T_b6623_row5_col6\" class=\"data row5 col6\" >0</td>\n    </tr>\n    <tr>\n      <th id=\"T_b6623_level0_row6\" class=\"row_heading level0 row6\" >2016</th>\n      <td id=\"T_b6623_row6_col0\" class=\"data row6 col0\" >8</td>\n      <td id=\"T_b6623_row6_col1\" class=\"data row6 col1\" >7</td>\n      <td id=\"T_b6623_row6_col2\" class=\"data row6 col2\" >6</td>\n      <td id=\"T_b6623_row6_col3\" class=\"data row6 col3\" >4</td>\n      <td id=\"T_b6623_row6_col4\" class=\"data row6 col4\" >3</td>\n      <td id=\"T_b6623_row6_col5\" class=\"data row6 col5\" >2</td>\n      <td id=\"T_b6623_row6_col6\" class=\"data row6 col6\" >1</td>\n    </tr>\n    <tr>\n      <th id=\"T_b6623_level0_row7\" class=\"row_heading level0 row7\" >2017</th>\n      <td id=\"T_b6623_row7_col0\" class=\"data row7 col0\" >9</td>\n      <td id=\"T_b6623_row7_col1\" class=\"data row7 col1\" >8</td>\n      <td id=\"T_b6623_row7_col2\" class=\"data row7 col2\" >7</td>\n      <td id=\"T_b6623_row7_col3\" class=\"data row7 col3\" >5</td>\n      <td id=\"T_b6623_row7_col4\" class=\"data row7 col4\" >4</td>\n      <td id=\"T_b6623_row7_col5\" class=\"data row7 col5\" >3</td>\n      <td id=\"T_b6623_row7_col6\" class=\"data row7 col6\" >2</td>\n    </tr>\n    <tr>\n      <th id=\"T_b6623_level0_row8\" class=\"row_heading level0 row8\" >2018</th>\n      <td id=\"T_b6623_row8_col0\" class=\"data row8 col0\" >nan</td>\n      <td id=\"T_b6623_row8_col1\" class=\"data row8 col1\" >9</td>\n      <td id=\"T_b6623_row8_col2\" class=\"data row8 col2\" >8</td>\n      <td id=\"T_b6623_row8_col3\" class=\"data row8 col3\" >6</td>\n      <td id=\"T_b6623_row8_col4\" class=\"data row8 col4\" >5</td>\n      <td id=\"T_b6623_row8_col5\" class=\"data row8 col5\" >4</td>\n      <td id=\"T_b6623_row8_col6\" class=\"data row8 col6\" >3</td>\n    </tr>\n    <tr>\n      <th id=\"T_b6623_level0_row9\" class=\"row_heading level0 row9\" >2019</th>\n      <td id=\"T_b6623_row9_col0\" class=\"data row9 col0\" >nan</td>\n      <td id=\"T_b6623_row9_col1\" class=\"data row9 col1\" >nan</td>\n      <td id=\"T_b6623_row9_col2\" class=\"data row9 col2\" >9</td>\n      <td id=\"T_b6623_row9_col3\" class=\"data row9 col3\" >7</td>\n      <td id=\"T_b6623_row9_col4\" class=\"data row9 col4\" >6</td>\n      <td id=\"T_b6623_row9_col5\" class=\"data row9 col5\" >5</td>\n      <td id=\"T_b6623_row9_col6\" class=\"data row9 col6\" >4</td>\n    </tr>\n  </tbody>\n</table>\n",
          "text/plain": "<pandas.io.formats.style.Styler at 0x7fafb0a32050>"
         },
         "metadata": {},
         "output_type": "display_data"
        }
       ]
      }
     }
    },
    "version_major": 2,
    "version_minor": 0
   }
  }
 },
 "nbformat": 4,
 "nbformat_minor": 5
}
