{
 "cells": [
  {
   "cell_type": "code",
   "execution_count": 1,
   "id": "ededd38a",
   "metadata": {
    "_cell_guid": "b1076dfc-b9ad-4769-8c92-a6c4dae69d19",
    "_uuid": "8f2839f25d086af736a60e9eeb907d3b93b6e0e5",
    "execution": {
     "iopub.execute_input": "2023-01-18T00:26:42.239012Z",
     "iopub.status.busy": "2023-01-18T00:26:42.237977Z",
     "iopub.status.idle": "2023-01-18T00:26:42.254349Z",
     "shell.execute_reply": "2023-01-18T00:26:42.253098Z"
    },
    "papermill": {
     "duration": 0.028992,
     "end_time": "2023-01-18T00:26:42.257232",
     "exception": false,
     "start_time": "2023-01-18T00:26:42.228240",
     "status": "completed"
    },
    "tags": []
   },
   "outputs": [
    {
     "name": "stdout",
     "output_type": "stream",
     "text": [
      "/kaggle/input/playground-series-s3e1/sample_submission.csv\n",
      "/kaggle/input/playground-series-s3e1/train.csv\n",
      "/kaggle/input/playground-series-s3e1/test.csv\n"
     ]
    }
   ],
   "source": [
    "# This Python 3 environment comes with many helpful analytics libraries installed\n",
    "# It is defined by the kaggle/python Docker image: https://github.com/kaggle/docker-python\n",
    "# For example, here's several helpful packages to load\n",
    "\n",
    "import numpy as np # linear algebra\n",
    "import pandas as pd # data processing, CSV file I/O (e.g. pd.read_csv)\n",
    "\n",
    "# Input data files are available in the read-only \"../input/\" directory\n",
    "# For example, running this (by clicking run or pressing Shift+Enter) will list all files under the input directory\n",
    "\n",
    "import os\n",
    "for dirname, _, filenames in os.walk('/kaggle/input'):\n",
    "    for filename in filenames:\n",
    "        print(os.path.join(dirname, filename))\n",
    "\n",
    "# You can write up to 20GB to the current directory (/kaggle/working/) that gets preserved as output when you create a version using \"Save & Run All\" \n",
    "# You can also write temporary files to /kaggle/temp/, but they won't be saved outside of the current session"
   ]
  },
  {
   "cell_type": "code",
   "execution_count": 2,
   "id": "e9898beb",
   "metadata": {
    "execution": {
     "iopub.execute_input": "2023-01-18T00:26:42.272833Z",
     "iopub.status.busy": "2023-01-18T00:26:42.272172Z",
     "iopub.status.idle": "2023-01-18T00:26:43.360274Z",
     "shell.execute_reply": "2023-01-18T00:26:43.359337Z"
    },
    "papermill": {
     "duration": 1.098612,
     "end_time": "2023-01-18T00:26:43.362839",
     "exception": false,
     "start_time": "2023-01-18T00:26:42.264227",
     "status": "completed"
    },
    "tags": []
   },
   "outputs": [],
   "source": [
    "\n",
    "import numpy as np\n",
    "import pandas as pd\n",
    "from sklearn.metrics import mean_squared_error\n",
    "from sklearn.model_selection import train_test_split\n"
   ]
  },
  {
   "cell_type": "markdown",
   "id": "aaf483bf",
   "metadata": {
    "papermill": {
     "duration": 0.005947,
     "end_time": "2023-01-18T00:26:43.375153",
     "exception": false,
     "start_time": "2023-01-18T00:26:43.369206",
     "status": "completed"
    },
    "tags": []
   },
   "source": [
    "**LOAD DATA**"
   ]
  },
  {
   "cell_type": "code",
   "execution_count": 3,
   "id": "85ccda0d",
   "metadata": {
    "execution": {
     "iopub.execute_input": "2023-01-18T00:26:43.389719Z",
     "iopub.status.busy": "2023-01-18T00:26:43.389093Z",
     "iopub.status.idle": "2023-01-18T00:26:43.632116Z",
     "shell.execute_reply": "2023-01-18T00:26:43.631070Z"
    },
    "papermill": {
     "duration": 0.253419,
     "end_time": "2023-01-18T00:26:43.634877",
     "exception": false,
     "start_time": "2023-01-18T00:26:43.381458",
     "status": "completed"
    },
    "tags": []
   },
   "outputs": [],
   "source": [
    "train = pd.read_csv('/kaggle/input/playground-series-s3e1/train.csv', index_col=0)\n",
    "test = pd.read_csv('/kaggle/input/playground-series-s3e1/test.csv', index_col=0)"
   ]
  },
  {
   "cell_type": "markdown",
   "id": "008633f2",
   "metadata": {
    "papermill": {
     "duration": 0.006164,
     "end_time": "2023-01-18T00:26:43.647446",
     "exception": false,
     "start_time": "2023-01-18T00:26:43.641282",
     "status": "completed"
    },
    "tags": []
   },
   "source": [
    "**EDA**"
   ]
  },
  {
   "cell_type": "code",
   "execution_count": 4,
   "id": "d7168fb0",
   "metadata": {
    "execution": {
     "iopub.execute_input": "2023-01-18T00:26:43.662409Z",
     "iopub.status.busy": "2023-01-18T00:26:43.661811Z",
     "iopub.status.idle": "2023-01-18T00:26:43.685344Z",
     "shell.execute_reply": "2023-01-18T00:26:43.683928Z"
    },
    "papermill": {
     "duration": 0.034315,
     "end_time": "2023-01-18T00:26:43.688123",
     "exception": false,
     "start_time": "2023-01-18T00:26:43.653808",
     "status": "completed"
    },
    "tags": []
   },
   "outputs": [
    {
     "data": {
      "text/html": [
       "<div>\n",
       "<style scoped>\n",
       "    .dataframe tbody tr th:only-of-type {\n",
       "        vertical-align: middle;\n",
       "    }\n",
       "\n",
       "    .dataframe tbody tr th {\n",
       "        vertical-align: top;\n",
       "    }\n",
       "\n",
       "    .dataframe thead th {\n",
       "        text-align: right;\n",
       "    }\n",
       "</style>\n",
       "<table border=\"1\" class=\"dataframe\">\n",
       "  <thead>\n",
       "    <tr style=\"text-align: right;\">\n",
       "      <th></th>\n",
       "      <th>MedInc</th>\n",
       "      <th>HouseAge</th>\n",
       "      <th>AveRooms</th>\n",
       "      <th>AveBedrms</th>\n",
       "      <th>Population</th>\n",
       "      <th>AveOccup</th>\n",
       "      <th>Latitude</th>\n",
       "      <th>Longitude</th>\n",
       "      <th>MedHouseVal</th>\n",
       "    </tr>\n",
       "    <tr>\n",
       "      <th>id</th>\n",
       "      <th></th>\n",
       "      <th></th>\n",
       "      <th></th>\n",
       "      <th></th>\n",
       "      <th></th>\n",
       "      <th></th>\n",
       "      <th></th>\n",
       "      <th></th>\n",
       "      <th></th>\n",
       "    </tr>\n",
       "  </thead>\n",
       "  <tbody>\n",
       "    <tr>\n",
       "      <th>0</th>\n",
       "      <td>2.3859</td>\n",
       "      <td>15.0</td>\n",
       "      <td>3.827160</td>\n",
       "      <td>1.112100</td>\n",
       "      <td>1280.0</td>\n",
       "      <td>2.486989</td>\n",
       "      <td>34.60</td>\n",
       "      <td>-120.12</td>\n",
       "      <td>0.980</td>\n",
       "    </tr>\n",
       "    <tr>\n",
       "      <th>1</th>\n",
       "      <td>3.7188</td>\n",
       "      <td>17.0</td>\n",
       "      <td>6.013373</td>\n",
       "      <td>1.054217</td>\n",
       "      <td>1504.0</td>\n",
       "      <td>3.813084</td>\n",
       "      <td>38.69</td>\n",
       "      <td>-121.22</td>\n",
       "      <td>0.946</td>\n",
       "    </tr>\n",
       "    <tr>\n",
       "      <th>2</th>\n",
       "      <td>4.7750</td>\n",
       "      <td>27.0</td>\n",
       "      <td>6.535604</td>\n",
       "      <td>1.103175</td>\n",
       "      <td>1061.0</td>\n",
       "      <td>2.464602</td>\n",
       "      <td>34.71</td>\n",
       "      <td>-120.45</td>\n",
       "      <td>1.576</td>\n",
       "    </tr>\n",
       "    <tr>\n",
       "      <th>3</th>\n",
       "      <td>2.4138</td>\n",
       "      <td>16.0</td>\n",
       "      <td>3.350203</td>\n",
       "      <td>0.965432</td>\n",
       "      <td>1255.0</td>\n",
       "      <td>2.089286</td>\n",
       "      <td>32.66</td>\n",
       "      <td>-117.09</td>\n",
       "      <td>1.336</td>\n",
       "    </tr>\n",
       "    <tr>\n",
       "      <th>4</th>\n",
       "      <td>3.7500</td>\n",
       "      <td>52.0</td>\n",
       "      <td>4.284404</td>\n",
       "      <td>1.069246</td>\n",
       "      <td>1793.0</td>\n",
       "      <td>1.604790</td>\n",
       "      <td>37.80</td>\n",
       "      <td>-122.41</td>\n",
       "      <td>4.500</td>\n",
       "    </tr>\n",
       "  </tbody>\n",
       "</table>\n",
       "</div>"
      ],
      "text/plain": [
       "    MedInc  HouseAge  AveRooms  AveBedrms  Population  AveOccup  Latitude  \\\n",
       "id                                                                          \n",
       "0   2.3859      15.0  3.827160   1.112100      1280.0  2.486989     34.60   \n",
       "1   3.7188      17.0  6.013373   1.054217      1504.0  3.813084     38.69   \n",
       "2   4.7750      27.0  6.535604   1.103175      1061.0  2.464602     34.71   \n",
       "3   2.4138      16.0  3.350203   0.965432      1255.0  2.089286     32.66   \n",
       "4   3.7500      52.0  4.284404   1.069246      1793.0  1.604790     37.80   \n",
       "\n",
       "    Longitude  MedHouseVal  \n",
       "id                          \n",
       "0     -120.12        0.980  \n",
       "1     -121.22        0.946  \n",
       "2     -120.45        1.576  \n",
       "3     -117.09        1.336  \n",
       "4     -122.41        4.500  "
      ]
     },
     "execution_count": 4,
     "metadata": {},
     "output_type": "execute_result"
    }
   ],
   "source": [
    "train.head()"
   ]
  },
  {
   "cell_type": "code",
   "execution_count": 5,
   "id": "90123356",
   "metadata": {
    "execution": {
     "iopub.execute_input": "2023-01-18T00:26:43.703316Z",
     "iopub.status.busy": "2023-01-18T00:26:43.702882Z",
     "iopub.status.idle": "2023-01-18T00:26:43.766776Z",
     "shell.execute_reply": "2023-01-18T00:26:43.765673Z"
    },
    "papermill": {
     "duration": 0.074362,
     "end_time": "2023-01-18T00:26:43.769337",
     "exception": false,
     "start_time": "2023-01-18T00:26:43.694975",
     "status": "completed"
    },
    "tags": []
   },
   "outputs": [
    {
     "data": {
      "text/html": [
       "<div>\n",
       "<style scoped>\n",
       "    .dataframe tbody tr th:only-of-type {\n",
       "        vertical-align: middle;\n",
       "    }\n",
       "\n",
       "    .dataframe tbody tr th {\n",
       "        vertical-align: top;\n",
       "    }\n",
       "\n",
       "    .dataframe thead th {\n",
       "        text-align: right;\n",
       "    }\n",
       "</style>\n",
       "<table border=\"1\" class=\"dataframe\">\n",
       "  <thead>\n",
       "    <tr style=\"text-align: right;\">\n",
       "      <th></th>\n",
       "      <th>MedInc</th>\n",
       "      <th>HouseAge</th>\n",
       "      <th>AveRooms</th>\n",
       "      <th>AveBedrms</th>\n",
       "      <th>Population</th>\n",
       "      <th>AveOccup</th>\n",
       "      <th>Latitude</th>\n",
       "      <th>Longitude</th>\n",
       "      <th>MedHouseVal</th>\n",
       "    </tr>\n",
       "  </thead>\n",
       "  <tbody>\n",
       "    <tr>\n",
       "      <th>count</th>\n",
       "      <td>37137.000000</td>\n",
       "      <td>37137.000000</td>\n",
       "      <td>37137.000000</td>\n",
       "      <td>37137.000000</td>\n",
       "      <td>37137.000000</td>\n",
       "      <td>37137.000000</td>\n",
       "      <td>37137.000000</td>\n",
       "      <td>37137.000000</td>\n",
       "      <td>37137.000000</td>\n",
       "    </tr>\n",
       "    <tr>\n",
       "      <th>mean</th>\n",
       "      <td>3.851029</td>\n",
       "      <td>26.057005</td>\n",
       "      <td>5.163124</td>\n",
       "      <td>1.062204</td>\n",
       "      <td>1660.778919</td>\n",
       "      <td>2.831243</td>\n",
       "      <td>35.570030</td>\n",
       "      <td>-119.554329</td>\n",
       "      <td>2.079751</td>\n",
       "    </tr>\n",
       "    <tr>\n",
       "      <th>std</th>\n",
       "      <td>1.803167</td>\n",
       "      <td>12.158221</td>\n",
       "      <td>1.206242</td>\n",
       "      <td>0.096490</td>\n",
       "      <td>1302.469608</td>\n",
       "      <td>2.702413</td>\n",
       "      <td>2.083179</td>\n",
       "      <td>1.974028</td>\n",
       "      <td>1.158571</td>\n",
       "    </tr>\n",
       "    <tr>\n",
       "      <th>min</th>\n",
       "      <td>0.499900</td>\n",
       "      <td>2.000000</td>\n",
       "      <td>0.851064</td>\n",
       "      <td>0.500000</td>\n",
       "      <td>3.000000</td>\n",
       "      <td>0.950000</td>\n",
       "      <td>32.550000</td>\n",
       "      <td>-124.350000</td>\n",
       "      <td>0.149990</td>\n",
       "    </tr>\n",
       "    <tr>\n",
       "      <th>25%</th>\n",
       "      <td>2.602300</td>\n",
       "      <td>17.000000</td>\n",
       "      <td>4.357522</td>\n",
       "      <td>1.020305</td>\n",
       "      <td>952.000000</td>\n",
       "      <td>2.394495</td>\n",
       "      <td>33.930000</td>\n",
       "      <td>-121.800000</td>\n",
       "      <td>1.208000</td>\n",
       "    </tr>\n",
       "    <tr>\n",
       "      <th>50%</th>\n",
       "      <td>3.515600</td>\n",
       "      <td>25.000000</td>\n",
       "      <td>5.068611</td>\n",
       "      <td>1.054545</td>\n",
       "      <td>1383.000000</td>\n",
       "      <td>2.744828</td>\n",
       "      <td>34.190000</td>\n",
       "      <td>-118.450000</td>\n",
       "      <td>1.808000</td>\n",
       "    </tr>\n",
       "    <tr>\n",
       "      <th>75%</th>\n",
       "      <td>4.699700</td>\n",
       "      <td>35.000000</td>\n",
       "      <td>5.858597</td>\n",
       "      <td>1.088825</td>\n",
       "      <td>1856.000000</td>\n",
       "      <td>3.125313</td>\n",
       "      <td>37.700000</td>\n",
       "      <td>-118.020000</td>\n",
       "      <td>2.660000</td>\n",
       "    </tr>\n",
       "    <tr>\n",
       "      <th>max</th>\n",
       "      <td>15.000100</td>\n",
       "      <td>52.000000</td>\n",
       "      <td>28.837607</td>\n",
       "      <td>5.873181</td>\n",
       "      <td>35682.000000</td>\n",
       "      <td>502.990610</td>\n",
       "      <td>41.950000</td>\n",
       "      <td>-114.550000</td>\n",
       "      <td>5.000010</td>\n",
       "    </tr>\n",
       "  </tbody>\n",
       "</table>\n",
       "</div>"
      ],
      "text/plain": [
       "             MedInc      HouseAge      AveRooms     AveBedrms    Population  \\\n",
       "count  37137.000000  37137.000000  37137.000000  37137.000000  37137.000000   \n",
       "mean       3.851029     26.057005      5.163124      1.062204   1660.778919   \n",
       "std        1.803167     12.158221      1.206242      0.096490   1302.469608   \n",
       "min        0.499900      2.000000      0.851064      0.500000      3.000000   \n",
       "25%        2.602300     17.000000      4.357522      1.020305    952.000000   \n",
       "50%        3.515600     25.000000      5.068611      1.054545   1383.000000   \n",
       "75%        4.699700     35.000000      5.858597      1.088825   1856.000000   \n",
       "max       15.000100     52.000000     28.837607      5.873181  35682.000000   \n",
       "\n",
       "           AveOccup      Latitude     Longitude   MedHouseVal  \n",
       "count  37137.000000  37137.000000  37137.000000  37137.000000  \n",
       "mean       2.831243     35.570030   -119.554329      2.079751  \n",
       "std        2.702413      2.083179      1.974028      1.158571  \n",
       "min        0.950000     32.550000   -124.350000      0.149990  \n",
       "25%        2.394495     33.930000   -121.800000      1.208000  \n",
       "50%        2.744828     34.190000   -118.450000      1.808000  \n",
       "75%        3.125313     37.700000   -118.020000      2.660000  \n",
       "max      502.990610     41.950000   -114.550000      5.000010  "
      ]
     },
     "execution_count": 5,
     "metadata": {},
     "output_type": "execute_result"
    }
   ],
   "source": [
    "train.describe()"
   ]
  },
  {
   "cell_type": "code",
   "execution_count": 6,
   "id": "77f495f3",
   "metadata": {
    "execution": {
     "iopub.execute_input": "2023-01-18T00:26:43.786639Z",
     "iopub.status.busy": "2023-01-18T00:26:43.786241Z",
     "iopub.status.idle": "2023-01-18T00:26:43.793865Z",
     "shell.execute_reply": "2023-01-18T00:26:43.792609Z"
    },
    "papermill": {
     "duration": 0.02004,
     "end_time": "2023-01-18T00:26:43.796386",
     "exception": false,
     "start_time": "2023-01-18T00:26:43.776346",
     "status": "completed"
    },
    "tags": []
   },
   "outputs": [
    {
     "data": {
      "text/plain": [
       "(37137, 9)"
      ]
     },
     "execution_count": 6,
     "metadata": {},
     "output_type": "execute_result"
    }
   ],
   "source": [
    "train.shape"
   ]
  },
  {
   "cell_type": "code",
   "execution_count": 7,
   "id": "842d0393",
   "metadata": {
    "execution": {
     "iopub.execute_input": "2023-01-18T00:26:43.812321Z",
     "iopub.status.busy": "2023-01-18T00:26:43.811897Z",
     "iopub.status.idle": "2023-01-18T00:26:43.821213Z",
     "shell.execute_reply": "2023-01-18T00:26:43.820342Z"
    },
    "papermill": {
     "duration": 0.019958,
     "end_time": "2023-01-18T00:26:43.823390",
     "exception": false,
     "start_time": "2023-01-18T00:26:43.803432",
     "status": "completed"
    },
    "tags": []
   },
   "outputs": [
    {
     "data": {
      "text/plain": [
       "MedInc         0\n",
       "HouseAge       0\n",
       "AveRooms       0\n",
       "AveBedrms      0\n",
       "Population     0\n",
       "AveOccup       0\n",
       "Latitude       0\n",
       "Longitude      0\n",
       "MedHouseVal    0\n",
       "dtype: int64"
      ]
     },
     "execution_count": 7,
     "metadata": {},
     "output_type": "execute_result"
    }
   ],
   "source": [
    "train.isna().sum()  #No missing values"
   ]
  },
  {
   "cell_type": "markdown",
   "id": "811d79cb",
   "metadata": {
    "papermill": {
     "duration": 0.006776,
     "end_time": "2023-01-18T00:26:43.837386",
     "exception": false,
     "start_time": "2023-01-18T00:26:43.830610",
     "status": "completed"
    },
    "tags": []
   },
   "source": [
    "**INCREASE DATA SET - CONCAT WITH ORIGINAL DATA**"
   ]
  },
  {
   "cell_type": "code",
   "execution_count": 8,
   "id": "8e119dea",
   "metadata": {
    "execution": {
     "iopub.execute_input": "2023-01-18T00:26:43.853342Z",
     "iopub.status.busy": "2023-01-18T00:26:43.852903Z",
     "iopub.status.idle": "2023-01-18T00:26:43.858170Z",
     "shell.execute_reply": "2023-01-18T00:26:43.856973Z"
    },
    "papermill": {
     "duration": 0.016058,
     "end_time": "2023-01-18T00:26:43.860576",
     "exception": false,
     "start_time": "2023-01-18T00:26:43.844518",
     "status": "completed"
    },
    "tags": []
   },
   "outputs": [],
   "source": [
    "features = ['MedInc', 'HouseAge', 'AveRooms', 'AveBedrms', 'Population', 'AveOccup', 'Latitude', 'Longitude']\n",
    "target = 'MedHouseVal'"
   ]
  },
  {
   "cell_type": "code",
   "execution_count": 9,
   "id": "adedddcb",
   "metadata": {
    "execution": {
     "iopub.execute_input": "2023-01-18T00:26:43.877133Z",
     "iopub.status.busy": "2023-01-18T00:26:43.876734Z",
     "iopub.status.idle": "2023-01-18T00:26:45.654718Z",
     "shell.execute_reply": "2023-01-18T00:26:45.653547Z"
    },
    "papermill": {
     "duration": 1.789322,
     "end_time": "2023-01-18T00:26:45.657482",
     "exception": false,
     "start_time": "2023-01-18T00:26:43.868160",
     "status": "completed"
    },
    "tags": []
   },
   "outputs": [],
   "source": [
    "from sklearn.datasets import fetch_california_housing\n",
    "\n",
    "original_data = fetch_california_housing()\n",
    "original_data = pd.DataFrame(data=np.hstack([original_data['data'], original_data['target'].reshape(-1, 1)]), columns=train.columns)\n",
    "train = pd.concat([train, original_data]).reset_index(drop=True)\n"
   ]
  },
  {
   "cell_type": "code",
   "execution_count": 10,
   "id": "173dfdec",
   "metadata": {
    "execution": {
     "iopub.execute_input": "2023-01-18T00:26:45.674294Z",
     "iopub.status.busy": "2023-01-18T00:26:45.673830Z",
     "iopub.status.idle": "2023-01-18T00:26:45.691911Z",
     "shell.execute_reply": "2023-01-18T00:26:45.690547Z"
    },
    "papermill": {
     "duration": 0.029602,
     "end_time": "2023-01-18T00:26:45.694481",
     "exception": false,
     "start_time": "2023-01-18T00:26:45.664879",
     "status": "completed"
    },
    "tags": []
   },
   "outputs": [
    {
     "data": {
      "text/html": [
       "<div>\n",
       "<style scoped>\n",
       "    .dataframe tbody tr th:only-of-type {\n",
       "        vertical-align: middle;\n",
       "    }\n",
       "\n",
       "    .dataframe tbody tr th {\n",
       "        vertical-align: top;\n",
       "    }\n",
       "\n",
       "    .dataframe thead th {\n",
       "        text-align: right;\n",
       "    }\n",
       "</style>\n",
       "<table border=\"1\" class=\"dataframe\">\n",
       "  <thead>\n",
       "    <tr style=\"text-align: right;\">\n",
       "      <th></th>\n",
       "      <th>MedInc</th>\n",
       "      <th>HouseAge</th>\n",
       "      <th>AveRooms</th>\n",
       "      <th>AveBedrms</th>\n",
       "      <th>Population</th>\n",
       "      <th>AveOccup</th>\n",
       "      <th>Latitude</th>\n",
       "      <th>Longitude</th>\n",
       "      <th>MedHouseVal</th>\n",
       "    </tr>\n",
       "  </thead>\n",
       "  <tbody>\n",
       "    <tr>\n",
       "      <th>0</th>\n",
       "      <td>2.3859</td>\n",
       "      <td>15.0</td>\n",
       "      <td>3.827160</td>\n",
       "      <td>1.112100</td>\n",
       "      <td>1280.0</td>\n",
       "      <td>2.486989</td>\n",
       "      <td>34.60</td>\n",
       "      <td>-120.12</td>\n",
       "      <td>0.980</td>\n",
       "    </tr>\n",
       "    <tr>\n",
       "      <th>1</th>\n",
       "      <td>3.7188</td>\n",
       "      <td>17.0</td>\n",
       "      <td>6.013373</td>\n",
       "      <td>1.054217</td>\n",
       "      <td>1504.0</td>\n",
       "      <td>3.813084</td>\n",
       "      <td>38.69</td>\n",
       "      <td>-121.22</td>\n",
       "      <td>0.946</td>\n",
       "    </tr>\n",
       "    <tr>\n",
       "      <th>2</th>\n",
       "      <td>4.7750</td>\n",
       "      <td>27.0</td>\n",
       "      <td>6.535604</td>\n",
       "      <td>1.103175</td>\n",
       "      <td>1061.0</td>\n",
       "      <td>2.464602</td>\n",
       "      <td>34.71</td>\n",
       "      <td>-120.45</td>\n",
       "      <td>1.576</td>\n",
       "    </tr>\n",
       "    <tr>\n",
       "      <th>3</th>\n",
       "      <td>2.4138</td>\n",
       "      <td>16.0</td>\n",
       "      <td>3.350203</td>\n",
       "      <td>0.965432</td>\n",
       "      <td>1255.0</td>\n",
       "      <td>2.089286</td>\n",
       "      <td>32.66</td>\n",
       "      <td>-117.09</td>\n",
       "      <td>1.336</td>\n",
       "    </tr>\n",
       "    <tr>\n",
       "      <th>4</th>\n",
       "      <td>3.7500</td>\n",
       "      <td>52.0</td>\n",
       "      <td>4.284404</td>\n",
       "      <td>1.069246</td>\n",
       "      <td>1793.0</td>\n",
       "      <td>1.604790</td>\n",
       "      <td>37.80</td>\n",
       "      <td>-122.41</td>\n",
       "      <td>4.500</td>\n",
       "    </tr>\n",
       "  </tbody>\n",
       "</table>\n",
       "</div>"
      ],
      "text/plain": [
       "   MedInc  HouseAge  AveRooms  AveBedrms  Population  AveOccup  Latitude  \\\n",
       "0  2.3859      15.0  3.827160   1.112100      1280.0  2.486989     34.60   \n",
       "1  3.7188      17.0  6.013373   1.054217      1504.0  3.813084     38.69   \n",
       "2  4.7750      27.0  6.535604   1.103175      1061.0  2.464602     34.71   \n",
       "3  2.4138      16.0  3.350203   0.965432      1255.0  2.089286     32.66   \n",
       "4  3.7500      52.0  4.284404   1.069246      1793.0  1.604790     37.80   \n",
       "\n",
       "   Longitude  MedHouseVal  \n",
       "0    -120.12        0.980  \n",
       "1    -121.22        0.946  \n",
       "2    -120.45        1.576  \n",
       "3    -117.09        1.336  \n",
       "4    -122.41        4.500  "
      ]
     },
     "execution_count": 10,
     "metadata": {},
     "output_type": "execute_result"
    }
   ],
   "source": [
    "train.head()"
   ]
  },
  {
   "cell_type": "code",
   "execution_count": 11,
   "id": "f12cf09d",
   "metadata": {
    "execution": {
     "iopub.execute_input": "2023-01-18T00:26:45.712191Z",
     "iopub.status.busy": "2023-01-18T00:26:45.711786Z",
     "iopub.status.idle": "2023-01-18T00:26:45.718214Z",
     "shell.execute_reply": "2023-01-18T00:26:45.717299Z"
    },
    "papermill": {
     "duration": 0.0182,
     "end_time": "2023-01-18T00:26:45.720475",
     "exception": false,
     "start_time": "2023-01-18T00:26:45.702275",
     "status": "completed"
    },
    "tags": []
   },
   "outputs": [
    {
     "data": {
      "text/plain": [
       "(57777, 9)"
      ]
     },
     "execution_count": 11,
     "metadata": {},
     "output_type": "execute_result"
    }
   ],
   "source": [
    "train.shape"
   ]
  },
  {
   "cell_type": "markdown",
   "id": "cada064c",
   "metadata": {
    "papermill": {
     "duration": 0.007226,
     "end_time": "2023-01-18T00:26:45.735310",
     "exception": false,
     "start_time": "2023-01-18T00:26:45.728084",
     "status": "completed"
    },
    "tags": []
   },
   "source": [
    "Attribute info source: https://scikit-learn.org/stable/datasets/real_world.html#california-housing-dataset\n",
    "* MedInc median income in block group\n",
    "* HouseAge median house age in block group\n",
    "* AveRooms average number of rooms per household\n",
    "* AveBedrms average number of bedrooms per household\n",
    "* Population block group population\n",
    "* AveOccup average number of household members\n",
    "* Latitude block group latitude\n",
    "* Longitude block group longitude"
   ]
  },
  {
   "cell_type": "code",
   "execution_count": 12,
   "id": "55d906a7",
   "metadata": {
    "execution": {
     "iopub.execute_input": "2023-01-18T00:26:45.753862Z",
     "iopub.status.busy": "2023-01-18T00:26:45.752665Z",
     "iopub.status.idle": "2023-01-18T00:26:45.770038Z",
     "shell.execute_reply": "2023-01-18T00:26:45.768616Z"
    },
    "papermill": {
     "duration": 0.028903,
     "end_time": "2023-01-18T00:26:45.772849",
     "exception": false,
     "start_time": "2023-01-18T00:26:45.743946",
     "status": "completed"
    },
    "tags": []
   },
   "outputs": [
    {
     "data": {
      "text/html": [
       "<div>\n",
       "<style scoped>\n",
       "    .dataframe tbody tr th:only-of-type {\n",
       "        vertical-align: middle;\n",
       "    }\n",
       "\n",
       "    .dataframe tbody tr th {\n",
       "        vertical-align: top;\n",
       "    }\n",
       "\n",
       "    .dataframe thead th {\n",
       "        text-align: right;\n",
       "    }\n",
       "</style>\n",
       "<table border=\"1\" class=\"dataframe\">\n",
       "  <thead>\n",
       "    <tr style=\"text-align: right;\">\n",
       "      <th></th>\n",
       "      <th>MedInc</th>\n",
       "      <th>HouseAge</th>\n",
       "      <th>AveRooms</th>\n",
       "      <th>AveBedrms</th>\n",
       "      <th>Population</th>\n",
       "      <th>AveOccup</th>\n",
       "      <th>Latitude</th>\n",
       "      <th>Longitude</th>\n",
       "    </tr>\n",
       "    <tr>\n",
       "      <th>id</th>\n",
       "      <th></th>\n",
       "      <th></th>\n",
       "      <th></th>\n",
       "      <th></th>\n",
       "      <th></th>\n",
       "      <th></th>\n",
       "      <th></th>\n",
       "      <th></th>\n",
       "    </tr>\n",
       "  </thead>\n",
       "  <tbody>\n",
       "    <tr>\n",
       "      <th>37137</th>\n",
       "      <td>1.7062</td>\n",
       "      <td>35.0</td>\n",
       "      <td>4.966368</td>\n",
       "      <td>1.096539</td>\n",
       "      <td>1318.0</td>\n",
       "      <td>2.844411</td>\n",
       "      <td>39.75</td>\n",
       "      <td>-121.85</td>\n",
       "    </tr>\n",
       "    <tr>\n",
       "      <th>37138</th>\n",
       "      <td>1.3882</td>\n",
       "      <td>22.0</td>\n",
       "      <td>4.187035</td>\n",
       "      <td>1.098229</td>\n",
       "      <td>2296.0</td>\n",
       "      <td>3.180218</td>\n",
       "      <td>33.95</td>\n",
       "      <td>-118.29</td>\n",
       "    </tr>\n",
       "    <tr>\n",
       "      <th>37139</th>\n",
       "      <td>7.7197</td>\n",
       "      <td>21.0</td>\n",
       "      <td>7.129436</td>\n",
       "      <td>0.959276</td>\n",
       "      <td>1535.0</td>\n",
       "      <td>2.888889</td>\n",
       "      <td>33.61</td>\n",
       "      <td>-117.81</td>\n",
       "    </tr>\n",
       "    <tr>\n",
       "      <th>37140</th>\n",
       "      <td>4.6806</td>\n",
       "      <td>49.0</td>\n",
       "      <td>4.769697</td>\n",
       "      <td>1.048485</td>\n",
       "      <td>707.0</td>\n",
       "      <td>1.743590</td>\n",
       "      <td>34.17</td>\n",
       "      <td>-118.34</td>\n",
       "    </tr>\n",
       "    <tr>\n",
       "      <th>37141</th>\n",
       "      <td>3.1284</td>\n",
       "      <td>25.0</td>\n",
       "      <td>3.765306</td>\n",
       "      <td>1.081633</td>\n",
       "      <td>4716.0</td>\n",
       "      <td>2.003827</td>\n",
       "      <td>34.17</td>\n",
       "      <td>-118.29</td>\n",
       "    </tr>\n",
       "  </tbody>\n",
       "</table>\n",
       "</div>"
      ],
      "text/plain": [
       "       MedInc  HouseAge  AveRooms  AveBedrms  Population  AveOccup  Latitude  \\\n",
       "id                                                                             \n",
       "37137  1.7062      35.0  4.966368   1.096539      1318.0  2.844411     39.75   \n",
       "37138  1.3882      22.0  4.187035   1.098229      2296.0  3.180218     33.95   \n",
       "37139  7.7197      21.0  7.129436   0.959276      1535.0  2.888889     33.61   \n",
       "37140  4.6806      49.0  4.769697   1.048485       707.0  1.743590     34.17   \n",
       "37141  3.1284      25.0  3.765306   1.081633      4716.0  2.003827     34.17   \n",
       "\n",
       "       Longitude  \n",
       "id                \n",
       "37137    -121.85  \n",
       "37138    -118.29  \n",
       "37139    -117.81  \n",
       "37140    -118.34  \n",
       "37141    -118.29  "
      ]
     },
     "execution_count": 12,
     "metadata": {},
     "output_type": "execute_result"
    }
   ],
   "source": [
    "test.head()"
   ]
  },
  {
   "cell_type": "code",
   "execution_count": 13,
   "id": "7f2cb144",
   "metadata": {
    "execution": {
     "iopub.execute_input": "2023-01-18T00:26:45.790853Z",
     "iopub.status.busy": "2023-01-18T00:26:45.790437Z",
     "iopub.status.idle": "2023-01-18T00:26:45.797112Z",
     "shell.execute_reply": "2023-01-18T00:26:45.795946Z"
    },
    "papermill": {
     "duration": 0.018545,
     "end_time": "2023-01-18T00:26:45.799654",
     "exception": false,
     "start_time": "2023-01-18T00:26:45.781109",
     "status": "completed"
    },
    "tags": []
   },
   "outputs": [
    {
     "data": {
      "text/plain": [
       "(24759, 8)"
      ]
     },
     "execution_count": 13,
     "metadata": {},
     "output_type": "execute_result"
    }
   ],
   "source": [
    "test.shape"
   ]
  },
  {
   "cell_type": "code",
   "execution_count": 14,
   "id": "631a3c36",
   "metadata": {
    "execution": {
     "iopub.execute_input": "2023-01-18T00:26:45.818534Z",
     "iopub.status.busy": "2023-01-18T00:26:45.818070Z",
     "iopub.status.idle": "2023-01-18T00:26:45.827627Z",
     "shell.execute_reply": "2023-01-18T00:26:45.826774Z"
    },
    "papermill": {
     "duration": 0.02216,
     "end_time": "2023-01-18T00:26:45.829970",
     "exception": false,
     "start_time": "2023-01-18T00:26:45.807810",
     "status": "completed"
    },
    "tags": []
   },
   "outputs": [
    {
     "data": {
      "text/plain": [
       "MedInc        0\n",
       "HouseAge      0\n",
       "AveRooms      0\n",
       "AveBedrms     0\n",
       "Population    0\n",
       "AveOccup      0\n",
       "Latitude      0\n",
       "Longitude     0\n",
       "dtype: int64"
      ]
     },
     "execution_count": 14,
     "metadata": {},
     "output_type": "execute_result"
    }
   ],
   "source": [
    "test.isna().sum() #No missing data"
   ]
  },
  {
   "cell_type": "code",
   "execution_count": 15,
   "id": "c70faa79",
   "metadata": {
    "execution": {
     "iopub.execute_input": "2023-01-18T00:26:45.848210Z",
     "iopub.status.busy": "2023-01-18T00:26:45.847797Z",
     "iopub.status.idle": "2023-01-18T00:26:45.870449Z",
     "shell.execute_reply": "2023-01-18T00:26:45.869035Z"
    },
    "papermill": {
     "duration": 0.034987,
     "end_time": "2023-01-18T00:26:45.873167",
     "exception": false,
     "start_time": "2023-01-18T00:26:45.838180",
     "status": "completed"
    },
    "tags": []
   },
   "outputs": [
    {
     "data": {
      "text/plain": [
       "((51999, 8), (5778, 8), (51999,), (5778,))"
      ]
     },
     "execution_count": 15,
     "metadata": {},
     "output_type": "execute_result"
    }
   ],
   "source": [
    "features = ['MedInc','HouseAge','AveRooms','AveBedrms','Population','AveOccup','Latitude','Longitude']\n",
    "y = train['MedHouseVal']\n",
    "X_train,X_test, y_train,y_test = train_test_split(train[features],train['MedHouseVal'],test_size=0.1)\n",
    "X_train.shape,X_test.shape,y_train.shape,y_test.shape"
   ]
  },
  {
   "cell_type": "markdown",
   "id": "13b490fd",
   "metadata": {
    "papermill": {
     "duration": 0.008175,
     "end_time": "2023-01-18T00:26:45.889646",
     "exception": false,
     "start_time": "2023-01-18T00:26:45.881471",
     "status": "completed"
    },
    "tags": []
   },
   "source": [
    "**USING LGBM REGRESSOR**"
   ]
  },
  {
   "cell_type": "code",
   "execution_count": 16,
   "id": "3b85f532",
   "metadata": {
    "execution": {
     "iopub.execute_input": "2023-01-18T00:26:45.908103Z",
     "iopub.status.busy": "2023-01-18T00:26:45.907690Z",
     "iopub.status.idle": "2023-01-18T00:28:01.994692Z",
     "shell.execute_reply": "2023-01-18T00:28:01.993622Z"
    },
    "papermill": {
     "duration": 76.099277,
     "end_time": "2023-01-18T00:28:01.997068",
     "exception": false,
     "start_time": "2023-01-18T00:26:45.897791",
     "status": "completed"
    },
    "tags": []
   },
   "outputs": [
    {
     "data": {
      "text/html": [
       "<style type='text/css'>\n",
       ".datatable table.frame { margin-bottom: 0; }\n",
       ".datatable table.frame thead { border-bottom: none; }\n",
       ".datatable table.frame tr.coltypes td {  color: #FFFFFF;  line-height: 6px;  padding: 0 0.5em;}\n",
       ".datatable .bool    { background: #DDDD99; }\n",
       ".datatable .object  { background: #565656; }\n",
       ".datatable .int     { background: #5D9E5D; }\n",
       ".datatable .float   { background: #4040CC; }\n",
       ".datatable .str     { background: #CC4040; }\n",
       ".datatable .time    { background: #40CC40; }\n",
       ".datatable .row_index {  background: var(--jp-border-color3);  border-right: 1px solid var(--jp-border-color0);  color: var(--jp-ui-font-color3);  font-size: 9px;}\n",
       ".datatable .frame tbody td { text-align: left; }\n",
       ".datatable .frame tr.coltypes .row_index {  background: var(--jp-border-color0);}\n",
       ".datatable th:nth-child(2) { padding-left: 12px; }\n",
       ".datatable .hellipsis {  color: var(--jp-cell-editor-border-color);}\n",
       ".datatable .vellipsis {  background: var(--jp-layout-color0);  color: var(--jp-cell-editor-border-color);}\n",
       ".datatable .na {  color: var(--jp-cell-editor-border-color);  font-size: 80%;}\n",
       ".datatable .sp {  opacity: 0.25;}\n",
       ".datatable .footer { font-size: 9px; }\n",
       ".datatable .frame_dimensions {  background: var(--jp-border-color3);  border-top: 1px solid var(--jp-border-color0);  color: var(--jp-ui-font-color3);  display: inline-block;  opacity: 0.6;  padding: 1px 10px 1px 5px;}\n",
       "</style>\n"
      ],
      "text/plain": [
       "<IPython.core.display.HTML object>"
      ]
     },
     "metadata": {},
     "output_type": "display_data"
    },
    {
     "name": "stdout",
     "output_type": "stream",
     "text": [
      "[LightGBM] [Warning] lambda_l1 is set=2, reg_alpha=0.0 will be ignored. Current value: lambda_l1=2\n",
      "[LightGBM] [Warning] feature_fraction is set=1, colsample_bytree=1.0 will be ignored. Current value: feature_fraction=1\n",
      "[LightGBM] [Warning] bagging_freq is set=4, subsample_freq=0 will be ignored. Current value: bagging_freq=4\n",
      "[LightGBM] [Warning] min_data_in_leaf is set=105, min_child_samples=20 will be ignored. Current value: min_data_in_leaf=105\n",
      "[LightGBM] [Warning] bagging_fraction is set=1, subsample=1.0 will be ignored. Current value: bagging_fraction=1\n",
      "Training until validation scores don't improve for 90 rounds\n",
      "Early stopping, best iteration is:\n",
      "[1108]\tvalid_0's rmse: 0.516425\n",
      "[LightGBM] [Warning] lambda_l1 is set=2, reg_alpha=0.0 will be ignored. Current value: lambda_l1=2\n",
      "[LightGBM] [Warning] feature_fraction is set=1, colsample_bytree=1.0 will be ignored. Current value: feature_fraction=1\n",
      "[LightGBM] [Warning] bagging_freq is set=4, subsample_freq=0 will be ignored. Current value: bagging_freq=4\n",
      "[LightGBM] [Warning] min_data_in_leaf is set=105, min_child_samples=20 will be ignored. Current value: min_data_in_leaf=105\n",
      "[LightGBM] [Warning] bagging_fraction is set=1, subsample=1.0 will be ignored. Current value: bagging_fraction=1\n",
      "Training until validation scores don't improve for 90 rounds\n",
      "Early stopping, best iteration is:\n",
      "[884]\tvalid_0's rmse: 0.518349\n",
      "[LightGBM] [Warning] lambda_l1 is set=2, reg_alpha=0.0 will be ignored. Current value: lambda_l1=2\n",
      "[LightGBM] [Warning] feature_fraction is set=1, colsample_bytree=1.0 will be ignored. Current value: feature_fraction=1\n",
      "[LightGBM] [Warning] bagging_freq is set=4, subsample_freq=0 will be ignored. Current value: bagging_freq=4\n",
      "[LightGBM] [Warning] min_data_in_leaf is set=105, min_child_samples=20 will be ignored. Current value: min_data_in_leaf=105\n",
      "[LightGBM] [Warning] bagging_fraction is set=1, subsample=1.0 will be ignored. Current value: bagging_fraction=1\n",
      "Training until validation scores don't improve for 90 rounds\n",
      "Early stopping, best iteration is:\n",
      "[905]\tvalid_0's rmse: 0.520438\n",
      "[LightGBM] [Warning] lambda_l1 is set=2, reg_alpha=0.0 will be ignored. Current value: lambda_l1=2\n",
      "[LightGBM] [Warning] feature_fraction is set=1, colsample_bytree=1.0 will be ignored. Current value: feature_fraction=1\n",
      "[LightGBM] [Warning] bagging_freq is set=4, subsample_freq=0 will be ignored. Current value: bagging_freq=4\n",
      "[LightGBM] [Warning] min_data_in_leaf is set=105, min_child_samples=20 will be ignored. Current value: min_data_in_leaf=105\n",
      "[LightGBM] [Warning] bagging_fraction is set=1, subsample=1.0 will be ignored. Current value: bagging_fraction=1\n",
      "Training until validation scores don't improve for 90 rounds\n",
      "Early stopping, best iteration is:\n",
      "[811]\tvalid_0's rmse: 0.525607\n",
      "[LightGBM] [Warning] lambda_l1 is set=2, reg_alpha=0.0 will be ignored. Current value: lambda_l1=2\n",
      "[LightGBM] [Warning] feature_fraction is set=1, colsample_bytree=1.0 will be ignored. Current value: feature_fraction=1\n",
      "[LightGBM] [Warning] bagging_freq is set=4, subsample_freq=0 will be ignored. Current value: bagging_freq=4\n",
      "[LightGBM] [Warning] min_data_in_leaf is set=105, min_child_samples=20 will be ignored. Current value: min_data_in_leaf=105\n",
      "[LightGBM] [Warning] bagging_fraction is set=1, subsample=1.0 will be ignored. Current value: bagging_fraction=1\n",
      "Training until validation scores don't improve for 90 rounds\n",
      "Early stopping, best iteration is:\n",
      "[1142]\tvalid_0's rmse: 0.518292\n",
      "[LightGBM] [Warning] lambda_l1 is set=2, reg_alpha=0.0 will be ignored. Current value: lambda_l1=2\n",
      "[LightGBM] [Warning] feature_fraction is set=1, colsample_bytree=1.0 will be ignored. Current value: feature_fraction=1\n",
      "[LightGBM] [Warning] bagging_freq is set=4, subsample_freq=0 will be ignored. Current value: bagging_freq=4\n",
      "[LightGBM] [Warning] min_data_in_leaf is set=105, min_child_samples=20 will be ignored. Current value: min_data_in_leaf=105\n",
      "[LightGBM] [Warning] bagging_fraction is set=1, subsample=1.0 will be ignored. Current value: bagging_fraction=1\n",
      "Training until validation scores don't improve for 90 rounds\n",
      "Early stopping, best iteration is:\n",
      "[1136]\tvalid_0's rmse: 0.529664\n",
      "[LightGBM] [Warning] lambda_l1 is set=2, reg_alpha=0.0 will be ignored. Current value: lambda_l1=2\n",
      "[LightGBM] [Warning] feature_fraction is set=1, colsample_bytree=1.0 will be ignored. Current value: feature_fraction=1\n",
      "[LightGBM] [Warning] bagging_freq is set=4, subsample_freq=0 will be ignored. Current value: bagging_freq=4\n",
      "[LightGBM] [Warning] min_data_in_leaf is set=105, min_child_samples=20 will be ignored. Current value: min_data_in_leaf=105\n",
      "[LightGBM] [Warning] bagging_fraction is set=1, subsample=1.0 will be ignored. Current value: bagging_fraction=1\n",
      "Training until validation scores don't improve for 90 rounds\n",
      "Early stopping, best iteration is:\n",
      "[1261]\tvalid_0's rmse: 0.524104\n",
      "[LightGBM] [Warning] lambda_l1 is set=2, reg_alpha=0.0 will be ignored. Current value: lambda_l1=2\n",
      "[LightGBM] [Warning] feature_fraction is set=1, colsample_bytree=1.0 will be ignored. Current value: feature_fraction=1\n",
      "[LightGBM] [Warning] bagging_freq is set=4, subsample_freq=0 will be ignored. Current value: bagging_freq=4\n",
      "[LightGBM] [Warning] min_data_in_leaf is set=105, min_child_samples=20 will be ignored. Current value: min_data_in_leaf=105\n",
      "[LightGBM] [Warning] bagging_fraction is set=1, subsample=1.0 will be ignored. Current value: bagging_fraction=1\n",
      "Training until validation scores don't improve for 90 rounds\n",
      "Early stopping, best iteration is:\n",
      "[1159]\tvalid_0's rmse: 0.520736\n",
      "[LightGBM] [Warning] lambda_l1 is set=2, reg_alpha=0.0 will be ignored. Current value: lambda_l1=2\n",
      "[LightGBM] [Warning] feature_fraction is set=1, colsample_bytree=1.0 will be ignored. Current value: feature_fraction=1\n",
      "[LightGBM] [Warning] bagging_freq is set=4, subsample_freq=0 will be ignored. Current value: bagging_freq=4\n",
      "[LightGBM] [Warning] min_data_in_leaf is set=105, min_child_samples=20 will be ignored. Current value: min_data_in_leaf=105\n",
      "[LightGBM] [Warning] bagging_fraction is set=1, subsample=1.0 will be ignored. Current value: bagging_fraction=1\n",
      "Training until validation scores don't improve for 90 rounds\n",
      "Early stopping, best iteration is:\n",
      "[898]\tvalid_0's rmse: 0.536477\n",
      "[LightGBM] [Warning] lambda_l1 is set=2, reg_alpha=0.0 will be ignored. Current value: lambda_l1=2\n",
      "[LightGBM] [Warning] feature_fraction is set=1, colsample_bytree=1.0 will be ignored. Current value: feature_fraction=1\n",
      "[LightGBM] [Warning] bagging_freq is set=4, subsample_freq=0 will be ignored. Current value: bagging_freq=4\n",
      "[LightGBM] [Warning] min_data_in_leaf is set=105, min_child_samples=20 will be ignored. Current value: min_data_in_leaf=105\n",
      "[LightGBM] [Warning] bagging_fraction is set=1, subsample=1.0 will be ignored. Current value: bagging_fraction=1\n",
      "Training until validation scores don't improve for 90 rounds\n",
      "Early stopping, best iteration is:\n",
      "[915]\tvalid_0's rmse: 0.519958\n",
      "mean RMSE across all folds: 0.5230049703756707\n"
     ]
    }
   ],
   "source": [
    "from lightgbm.sklearn import LGBMRegressor\n",
    "import lightgbm as lgbm\n",
    "from catboost import CatBoostRegressor\n",
    "from sklearn.model_selection import KFold\n",
    "N_ESTIMATORS = 100_000\n",
    "\n",
    "\n",
    "clfs = []\n",
    "rmses = []\n",
    "\n",
    "params= {\n",
    " 'lambda_l1': 2,\n",
    " 'num_leaves': 90,\n",
    " 'feature_fraction': 1,\n",
    " 'bagging_fraction': 1,\n",
    " 'bagging_freq': 4,\n",
    " 'min_data_in_leaf': 105,\n",
    " 'max_depth': 20,\n",
    "}\n",
    "\n",
    "kf = KFold(n_splits=10, random_state=0, shuffle=True)\n",
    "for train_index, val_index in kf.split(train):\n",
    "    X_train, X_val = train[features].loc[train_index], train[features].loc[val_index]\n",
    "    y_train, y_val = train[target][train_index], train[target][val_index]\n",
    "    \n",
    "    clf = LGBMRegressor(learning_rate=0.02, n_estimators=N_ESTIMATORS, metric='rmse', **params)\n",
    "    clf.fit(X_train.values, y_train, eval_set=[(X_val, y_val)], callbacks=[lgbm.early_stopping(90, verbose=True)])\n",
    "    preds = clf.predict(X_val.values)\n",
    "    \n",
    "    clfs.append(clf)\n",
    "    rmses.append(mean_squared_error(y_val, preds, squared=False))\n",
    "print(f'mean RMSE across all folds: {np.mean(rmses)}')"
   ]
  },
  {
   "cell_type": "markdown",
   "id": "c018c6b8",
   "metadata": {
    "papermill": {
     "duration": 0.009871,
     "end_time": "2023-01-18T00:28:02.016581",
     "exception": false,
     "start_time": "2023-01-18T00:28:02.006710",
     "status": "completed"
    },
    "tags": []
   },
   "source": [
    "**USING CATBOOST**"
   ]
  },
  {
   "cell_type": "code",
   "execution_count": 17,
   "id": "6095b349",
   "metadata": {
    "execution": {
     "iopub.execute_input": "2023-01-18T00:28:02.038466Z",
     "iopub.status.busy": "2023-01-18T00:28:02.038036Z",
     "iopub.status.idle": "2023-01-18T00:57:51.328696Z",
     "shell.execute_reply": "2023-01-18T00:57:51.327610Z"
    },
    "papermill": {
     "duration": 1789.314301,
     "end_time": "2023-01-18T00:57:51.341000",
     "exception": false,
     "start_time": "2023-01-18T00:28:02.026699",
     "status": "completed"
    },
    "tags": []
   },
   "outputs": [
    {
     "name": "stdout",
     "output_type": "stream",
     "text": [
      "mean RMSE across all folds: 0.5200769664943921\n"
     ]
    }
   ],
   "source": [
    "rmses = []\n",
    "kf = KFold(n_splits=10, random_state=1, shuffle=True)\n",
    "for train_index, val_index in kf.split(train):\n",
    "    X_train, X_val = train[features].loc[train_index], train[features].loc[val_index]\n",
    "    y_train, y_val = train[target][train_index], train[target][val_index]\n",
    "\n",
    "    clf = CatBoostRegressor(iterations=N_ESTIMATORS, loss_function='RMSE')\n",
    "    clf.fit(X_train, y_train, eval_set=(X_val, y_val), early_stopping_rounds=1000, verbose=False)\n",
    "    \n",
    "    \n",
    "    preds = clf.predict(X_val.values)\n",
    "    \n",
    "    clfs.append(clf)\n",
    "    rmses.append(mean_squared_error(y_val, preds, squared=False))\n",
    "print(f'mean RMSE across all folds: {np.mean(rmses)}')"
   ]
  },
  {
   "cell_type": "code",
   "execution_count": 18,
   "id": "dbe972fd",
   "metadata": {
    "execution": {
     "iopub.execute_input": "2023-01-18T00:57:51.362876Z",
     "iopub.status.busy": "2023-01-18T00:57:51.362172Z",
     "iopub.status.idle": "2023-01-18T00:58:08.292546Z",
     "shell.execute_reply": "2023-01-18T00:58:08.291207Z"
    },
    "papermill": {
     "duration": 16.944458,
     "end_time": "2023-01-18T00:58:08.295488",
     "exception": false,
     "start_time": "2023-01-18T00:57:51.351030",
     "status": "completed"
    },
    "tags": []
   },
   "outputs": [],
   "source": [
    "test_preds = []\n",
    "\n",
    "for clf in clfs:\n",
    "    preds = clf.predict(test[features].values)\n",
    "    test_preds.append(preds)"
   ]
  },
  {
   "cell_type": "code",
   "execution_count": 19,
   "id": "34580256",
   "metadata": {
    "execution": {
     "iopub.execute_input": "2023-01-18T00:58:08.317315Z",
     "iopub.status.busy": "2023-01-18T00:58:08.316865Z",
     "iopub.status.idle": "2023-01-18T00:58:08.326558Z",
     "shell.execute_reply": "2023-01-18T00:58:08.325526Z"
    },
    "papermill": {
     "duration": 0.023621,
     "end_time": "2023-01-18T00:58:08.328942",
     "exception": false,
     "start_time": "2023-01-18T00:58:08.305321",
     "status": "completed"
    },
    "tags": []
   },
   "outputs": [
    {
     "data": {
      "text/plain": [
       "array([0.64171085, 1.02633995, 3.99365512, ..., 1.19639896, 3.65709978,\n",
       "       3.51486165])"
      ]
     },
     "execution_count": 19,
     "metadata": {},
     "output_type": "execute_result"
    }
   ],
   "source": [
    "test_preds = np.stack(test_preds).mean(0)\n",
    "test_preds"
   ]
  },
  {
   "cell_type": "code",
   "execution_count": 20,
   "id": "657c1dea",
   "metadata": {
    "execution": {
     "iopub.execute_input": "2023-01-18T00:58:08.352366Z",
     "iopub.status.busy": "2023-01-18T00:58:08.351253Z",
     "iopub.status.idle": "2023-01-18T00:58:08.362953Z",
     "shell.execute_reply": "2023-01-18T00:58:08.361877Z"
    },
    "papermill": {
     "duration": 0.025526,
     "end_time": "2023-01-18T00:58:08.365460",
     "exception": false,
     "start_time": "2023-01-18T00:58:08.339934",
     "status": "completed"
    },
    "tags": []
   },
   "outputs": [
    {
     "data": {
      "text/html": [
       "<div>\n",
       "<style scoped>\n",
       "    .dataframe tbody tr th:only-of-type {\n",
       "        vertical-align: middle;\n",
       "    }\n",
       "\n",
       "    .dataframe tbody tr th {\n",
       "        vertical-align: top;\n",
       "    }\n",
       "\n",
       "    .dataframe thead th {\n",
       "        text-align: right;\n",
       "    }\n",
       "</style>\n",
       "<table border=\"1\" class=\"dataframe\">\n",
       "  <thead>\n",
       "    <tr style=\"text-align: right;\">\n",
       "      <th></th>\n",
       "      <th>id</th>\n",
       "      <th>MedHouseVal</th>\n",
       "    </tr>\n",
       "  </thead>\n",
       "  <tbody>\n",
       "    <tr>\n",
       "      <th>0</th>\n",
       "      <td>37137</td>\n",
       "      <td>0.641711</td>\n",
       "    </tr>\n",
       "    <tr>\n",
       "      <th>1</th>\n",
       "      <td>37138</td>\n",
       "      <td>1.026340</td>\n",
       "    </tr>\n",
       "    <tr>\n",
       "      <th>2</th>\n",
       "      <td>37139</td>\n",
       "      <td>3.993655</td>\n",
       "    </tr>\n",
       "    <tr>\n",
       "      <th>3</th>\n",
       "      <td>37140</td>\n",
       "      <td>3.507909</td>\n",
       "    </tr>\n",
       "    <tr>\n",
       "      <th>4</th>\n",
       "      <td>37141</td>\n",
       "      <td>2.414486</td>\n",
       "    </tr>\n",
       "  </tbody>\n",
       "</table>\n",
       "</div>"
      ],
      "text/plain": [
       "      id  MedHouseVal\n",
       "0  37137     0.641711\n",
       "1  37138     1.026340\n",
       "2  37139     3.993655\n",
       "3  37140     3.507909\n",
       "4  37141     2.414486"
      ]
     },
     "execution_count": 20,
     "metadata": {},
     "output_type": "execute_result"
    }
   ],
   "source": [
    "submission = pd.DataFrame({'id': test.index, 'MedHouseVal': test_preds})\n",
    "submission.head()"
   ]
  },
  {
   "cell_type": "code",
   "execution_count": 21,
   "id": "563da141",
   "metadata": {
    "execution": {
     "iopub.execute_input": "2023-01-18T00:58:08.387976Z",
     "iopub.status.busy": "2023-01-18T00:58:08.387189Z",
     "iopub.status.idle": "2023-01-18T00:58:08.456406Z",
     "shell.execute_reply": "2023-01-18T00:58:08.455087Z"
    },
    "papermill": {
     "duration": 0.083492,
     "end_time": "2023-01-18T00:58:08.459224",
     "exception": false,
     "start_time": "2023-01-18T00:58:08.375732",
     "status": "completed"
    },
    "tags": []
   },
   "outputs": [],
   "source": [
    "submission.to_csv('submission.csv', index=False)"
   ]
  }
 ],
 "metadata": {
  "kernelspec": {
   "display_name": "Python 3",
   "language": "python",
   "name": "python3"
  },
  "language_info": {
   "codemirror_mode": {
    "name": "ipython",
    "version": 3
   },
   "file_extension": ".py",
   "mimetype": "text/x-python",
   "name": "python",
   "nbconvert_exporter": "python",
   "pygments_lexer": "ipython3",
   "version": "3.7.12"
  },
  "papermill": {
   "default_parameters": {},
   "duration": 1896.274942,
   "end_time": "2023-01-18T00:58:09.596608",
   "environment_variables": {},
   "exception": null,
   "input_path": "__notebook__.ipynb",
   "output_path": "__notebook__.ipynb",
   "parameters": {},
   "start_time": "2023-01-18T00:26:33.321666",
   "version": "2.3.4"
  }
 },
 "nbformat": 4,
 "nbformat_minor": 5
}
